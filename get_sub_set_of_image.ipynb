{
 "cells": [
  {
   "cell_type": "markdown",
   "metadata": {},
   "source": [
    "### 从一个文件夹中选择百分比的文件作为子集"
   ]
  },
  {
   "cell_type": "code",
   "execution_count": 87,
   "metadata": {},
   "outputs": [],
   "source": [
    "import numpy as np\n",
    "import os\n",
    "import glob\n",
    "from shutil import copyfile"
   ]
  },
  {
   "cell_type": "code",
   "execution_count": 27,
   "metadata": {},
   "outputs": [],
   "source": [
    "\n",
    "\n",
    "def get_percent_items(items: list, percentage:float, seed=42):\n",
    "    \"\"\"\n",
    "        从一个列表中随机选取前百分比的条目\n",
    "    \"\"\"\n",
    "    random_state = np.random.RandomState(seed)\n",
    "\n",
    "    # randomly permuted ids\n",
    "    random_items = random_state.permutation(items)\n",
    "\n",
    "    sub_counts = int(percentage * len(random_items))\n",
    "    sub_items = random_items[:sub_counts]\n",
    "    sub_items.sort()\n",
    "    return sub_items.tolist()"
   ]
  },
  {
   "cell_type": "code",
   "execution_count": 36,
   "metadata": {},
   "outputs": [],
   "source": [
    "def get_sub_dirs(root_dir: str):\n",
    "    \"\"\"\n",
    "    获取目录下所有的子目录\n",
    "    \"\"\"\n",
    "    return [os.path.join(root_dir, name) for name in os.listdir(root_dir)\n",
    "            if os.path.isdir(os.path.join(root_dir, name))]\n",
    "    "
   ]
  },
  {
   "cell_type": "code",
   "execution_count": 23,
   "metadata": {},
   "outputs": [],
   "source": [
    "def get_all_image_files(directory: str, extension: str=\"png\"):\n",
    "    pattern = os.path.join(directory, f\"*{extension}\")\n",
    "    imagefiles = glob.glob(pattern)\n",
    "    \n",
    "    return imagefiles"
   ]
  },
  {
   "cell_type": "code",
   "execution_count": 29,
   "metadata": {},
   "outputs": [
    {
     "name": "stdout",
     "output_type": "stream",
     "text": [
      "<class 'list'> 8 ['F:\\\\workspace\\\\empty_scan_test\\\\testSet5.0_lit\\\\03_04L01\\\\frm-0001.png', 'F:\\\\workspace\\\\empty_scan_test\\\\testSet5.0_lit\\\\03_04L01\\\\frm-0002.png', 'F:\\\\workspace\\\\empty_scan_test\\\\testSet5.0_lit\\\\03_04L01\\\\frm-0003.png', 'F:\\\\workspace\\\\empty_scan_test\\\\testSet5.0_lit\\\\03_04L01\\\\frm-0010.png', 'F:\\\\workspace\\\\empty_scan_test\\\\testSet5.0_lit\\\\03_04L01\\\\frm-0011.png', 'F:\\\\workspace\\\\empty_scan_test\\\\testSet5.0_lit\\\\03_04L01\\\\frm-0012.png', 'F:\\\\workspace\\\\empty_scan_test\\\\testSet5.0_lit\\\\03_04L01\\\\frm-0013.png', 'F:\\\\workspace\\\\empty_scan_test\\\\testSet5.0_lit\\\\03_04L01\\\\frm-0014.png']\n",
      "<class 'list'> ['F:\\\\workspace\\\\empty_scan_test\\\\testSet5.0_lit\\\\03_04L01\\\\frm-0001.png', 'F:\\\\workspace\\\\empty_scan_test\\\\testSet5.0_lit\\\\03_04L01\\\\frm-0002.png', 'F:\\\\workspace\\\\empty_scan_test\\\\testSet5.0_lit\\\\03_04L01\\\\frm-0012.png']\n"
     ]
    }
   ],
   "source": [
    "\n",
    "files = get_all_image_files(r\"F:\\workspace\\empty_scan_test\\testSet5.0_lit\\03_04L01\")\n",
    "print(type(files), len(files), files)\n",
    "sub_files = get_percent_items(files, 0.4)\n",
    "print(type(sub_files), sub_files)"
   ]
  },
  {
   "cell_type": "code",
   "execution_count": null,
   "metadata": {},
   "outputs": [],
   "source": [
    "def save_file_list_to_new_directory(items: list, new_dir: int=0):\n",
    "    \"\"\"\n",
    "    按顺序保存图片\n",
    "    \"\"\"\n",
    "    for ifile in items:\n",
    "        with open(ifile, 'wb') as fp:\n",
    "            fp.write\n",
    "    pass"
   ]
  },
  {
   "cell_type": "code",
   "execution_count": 106,
   "metadata": {},
   "outputs": [],
   "source": [
    "import functools\n",
    "import pathlib\n",
    "def get_sub_set_of_image(root_dir: str, percentage:float, out_dir: str):\n",
    "    \"\"\"\n",
    "    获取一个图片数据集的子集, 从每个最小文件夹中分别获取固定比例\n",
    "    \"\"\"\n",
    "    print(\"out:\", out_dir)\n",
    "    sub_dirs = get_sub_dirs(root_dir)\n",
    "    for folder in sub_dirs:\n",
    "        files = get_all_image_files(folder)\n",
    "        sub_files = get_percent_items(files, percentage)\n",
    "        sub_files_part = [subfile.split(rootstr)[-1] for subfile in sub_files]\n",
    "        sub_files_correct = map(lambda f: f[1:] if f.startswith(os.sep) else f, sub_files_part)\n",
    "        new_files = [os.path.join(out_dir, subfile) for subfile in sub_files_correct]\n",
    "        for src, dst in zip(sub_files, new_files):\n",
    "            dst_dir = os.path.dirname(dst)\n",
    "            print(\"dst_dir\", dst_dir)\n",
    "            if not os.path.exists(dst_dir):\n",
    "                os.makedirs(dst_dir, exist_ok=True)\n",
    "                #dst_dir = pathlib.Path(dst_dir)\n",
    "                #pathlib.Path.mkdir(dst_dir, exist_ok=True)\n",
    "            copyfile(src, dst) \n",
    "\n",
    "        #new_files = map(lambda root, nroot, f: os.path.join(nroot, f.split(root)[-1]), sub_files)\n",
    "        print(\"newfile:\", new_files)"
   ]
  },
  {
   "cell_type": "code",
   "execution_count": 107,
   "metadata": {},
   "outputs": [
    {
     "data": {
      "text/plain": [
       "['', '\\\\03_04L01\\\\1233.png']"
      ]
     },
     "execution_count": 107,
     "metadata": {},
     "output_type": "execute_result"
    }
   ],
   "source": [
    "rootstr=r\"F:\\workspace\\empty_scan_test\\testSet5.0_lit\"\n",
    "new_rootstr=r\"F:\\workspace\\empty_scan_test\\testSet5.0_lit2\"\n",
    "fullstr=r\"F:\\workspace\\empty_scan_test\\testSet5.0_lit\\03_04L01\\1233.png\"\n",
    "fullstr.split(rootstr)\n",
    "    "
   ]
  },
  {
   "cell_type": "code",
   "execution_count": 108,
   "metadata": {},
   "outputs": [
    {
     "name": "stdout",
     "output_type": "stream",
     "text": [
      "out: F:\\workspace\\empty_scan_test\\testSet5.0_lit2\n",
      "dst_dir F:\\workspace\\empty_scan_test\\testSet5.0_lit2\\03_04L01\n",
      "dst_dir F:\\workspace\\empty_scan_test\\testSet5.0_lit2\\03_04L01\n",
      "newfile: ['F:\\\\workspace\\\\empty_scan_test\\\\testSet5.0_lit2\\\\03_04L01\\\\frm-0002.png', 'F:\\\\workspace\\\\empty_scan_test\\\\testSet5.0_lit2\\\\03_04L01\\\\frm-0012.png']\n",
      "dst_dir F:\\workspace\\empty_scan_test\\testSet5.0_lit2\\1.3.6.1.4.1.52026.48447242.6617.7.3.1.dcm_frms\n",
      "dst_dir F:\\workspace\\empty_scan_test\\testSet5.0_lit2\\1.3.6.1.4.1.52026.48447242.6617.7.3.1.dcm_frms\n",
      "dst_dir F:\\workspace\\empty_scan_test\\testSet5.0_lit2\\1.3.6.1.4.1.52026.48447242.6617.7.3.1.dcm_frms\n",
      "dst_dir F:\\workspace\\empty_scan_test\\testSet5.0_lit2\\1.3.6.1.4.1.52026.48447242.6617.7.3.1.dcm_frms\n",
      "dst_dir F:\\workspace\\empty_scan_test\\testSet5.0_lit2\\1.3.6.1.4.1.52026.48447242.6617.7.3.1.dcm_frms\n",
      "dst_dir F:\\workspace\\empty_scan_test\\testSet5.0_lit2\\1.3.6.1.4.1.52026.48447242.6617.7.3.1.dcm_frms\n",
      "dst_dir F:\\workspace\\empty_scan_test\\testSet5.0_lit2\\1.3.6.1.4.1.52026.48447242.6617.7.3.1.dcm_frms\n",
      "dst_dir F:\\workspace\\empty_scan_test\\testSet5.0_lit2\\1.3.6.1.4.1.52026.48447242.6617.7.3.1.dcm_frms\n",
      "newfile: ['F:\\\\workspace\\\\empty_scan_test\\\\testSet5.0_lit2\\\\1.3.6.1.4.1.52026.48447242.6617.7.3.1.dcm_frms\\\\frm-0001.png', 'F:\\\\workspace\\\\empty_scan_test\\\\testSet5.0_lit2\\\\1.3.6.1.4.1.52026.48447242.6617.7.3.1.dcm_frms\\\\frm-0009.png', 'F:\\\\workspace\\\\empty_scan_test\\\\testSet5.0_lit2\\\\1.3.6.1.4.1.52026.48447242.6617.7.3.1.dcm_frms\\\\frm-0010.png', 'F:\\\\workspace\\\\empty_scan_test\\\\testSet5.0_lit2\\\\1.3.6.1.4.1.52026.48447242.6617.7.3.1.dcm_frms\\\\frm-0012.png', 'F:\\\\workspace\\\\empty_scan_test\\\\testSet5.0_lit2\\\\1.3.6.1.4.1.52026.48447242.6617.7.3.1.dcm_frms\\\\frm-0014.png', 'F:\\\\workspace\\\\empty_scan_test\\\\testSet5.0_lit2\\\\1.3.6.1.4.1.52026.48447242.6617.7.3.1.dcm_frms\\\\frm-0017.png', 'F:\\\\workspace\\\\empty_scan_test\\\\testSet5.0_lit2\\\\1.3.6.1.4.1.52026.48447242.6617.7.3.1.dcm_frms\\\\frm-0018.png', 'F:\\\\workspace\\\\empty_scan_test\\\\testSet5.0_lit2\\\\1.3.6.1.4.1.52026.48447242.6617.7.3.1.dcm_frms\\\\frm-0022.png']\n"
     ]
    }
   ],
   "source": [
    "get_sub_set_of_image(rootstr, 0.3, new_rootstr)"
   ]
  },
  {
   "cell_type": "code",
   "execution_count": 49,
   "metadata": {},
   "outputs": [],
   "source": [
    "import functools"
   ]
  },
  {
   "cell_type": "code",
   "execution_count": 51,
   "metadata": {},
   "outputs": [],
   "source": [
    "func = map(lambda root, nroot, f: os.path.join(nroot, f.split(root)[-1]), files)"
   ]
  },
  {
   "cell_type": "code",
   "execution_count": 73,
   "metadata": {},
   "outputs": [
    {
     "data": {
      "text/plain": [
       "True"
      ]
     },
     "execution_count": 73,
     "metadata": {},
     "output_type": "execute_result"
    }
   ],
   "source": [
    "path0=r\"\\\\03_04L01\\\\1233.png'\"\n",
    "path0.startswith(os.sep)"
   ]
  },
  {
   "cell_type": "code",
   "execution_count": 96,
   "metadata": {},
   "outputs": [
    {
     "name": "stdout",
     "output_type": "stream",
     "text": [
      "Help on function mkdir in module pathlib:\n",
      "\n",
      "mkdir(self, mode=511, parents=False, exist_ok=False)\n",
      "    Create a new directory at this given path.\n",
      "\n"
     ]
    }
   ],
   "source": [
    "import pathlib\n",
    "help(pathlib.Path.mkdir)"
   ]
  },
  {
   "cell_type": "code",
   "execution_count": 71,
   "metadata": {},
   "outputs": [
    {
     "data": {
      "text/plain": [
       "['__all__',\n",
       " '__builtins__',\n",
       " '__cached__',\n",
       " '__doc__',\n",
       " '__file__',\n",
       " '__loader__',\n",
       " '__name__',\n",
       " '__package__',\n",
       " '__spec__',\n",
       " '_abspath_fallback',\n",
       " '_get_bothseps',\n",
       " '_getfinalpathname',\n",
       " '_getfullpathname',\n",
       " '_getvolumepathname',\n",
       " 'abspath',\n",
       " 'altsep',\n",
       " 'basename',\n",
       " 'commonpath',\n",
       " 'commonprefix',\n",
       " 'curdir',\n",
       " 'defpath',\n",
       " 'devnull',\n",
       " 'dirname',\n",
       " 'exists',\n",
       " 'expanduser',\n",
       " 'expandvars',\n",
       " 'extsep',\n",
       " 'genericpath',\n",
       " 'getatime',\n",
       " 'getctime',\n",
       " 'getmtime',\n",
       " 'getsize',\n",
       " 'isabs',\n",
       " 'isdir',\n",
       " 'isfile',\n",
       " 'islink',\n",
       " 'ismount',\n",
       " 'join',\n",
       " 'lexists',\n",
       " 'normcase',\n",
       " 'normpath',\n",
       " 'os',\n",
       " 'pardir',\n",
       " 'pathsep',\n",
       " 'realpath',\n",
       " 'relpath',\n",
       " 'samefile',\n",
       " 'sameopenfile',\n",
       " 'samestat',\n",
       " 'sep',\n",
       " 'split',\n",
       " 'splitdrive',\n",
       " 'splitext',\n",
       " 'splitunc',\n",
       " 'stat',\n",
       " 'supports_unicode_filenames',\n",
       " 'sys']"
      ]
     },
     "execution_count": 71,
     "metadata": {},
     "output_type": "execute_result"
    }
   ],
   "source": [
    "dir(os.path)"
   ]
  },
  {
   "cell_type": "code",
   "execution_count": null,
   "metadata": {},
   "outputs": [],
   "source": []
  }
 ],
 "metadata": {
  "kernelspec": {
   "display_name": "Python 3",
   "language": "python",
   "name": "python3"
  },
  "language_info": {
   "codemirror_mode": {
    "name": "ipython",
    "version": 3
   },
   "file_extension": ".py",
   "mimetype": "text/x-python",
   "name": "python",
   "nbconvert_exporter": "python",
   "pygments_lexer": "ipython3",
   "version": "3.6.8"
  }
 },
 "nbformat": 4,
 "nbformat_minor": 2
}
