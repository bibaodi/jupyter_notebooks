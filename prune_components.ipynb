{
 "cells": [
  {
   "cell_type": "code",
   "execution_count": 95,
   "metadata": {},
   "outputs": [],
   "source": [
    "import cv2\n",
    "import numpy as np\n",
    "import tensorflow as tf\n",
    "import matplotlib.pyplot as plt\n",
    "\n",
    "\n"
   ]
  },
  {
   "cell_type": "code",
   "execution_count": 96,
   "metadata": {},
   "outputs": [],
   "source": [
    "def use_tflite_load(modelfile):\n",
    "    # Load TFLite model and allocate tensors.\n",
    "    interpreter = tf.lite.Interpreter(model_path=modelfile)\n",
    "    interpreter.allocate_tensors()\n",
    "    return interpreter\n",
    "\n",
    "\n",
    "def use_tflite_predict(xs, tf_interpreter, model_input_size=96, result_img_size=96):\n",
    "    interpreter = tf_interpreter\n",
    "    # Get input and output tensors.\n",
    "    input_details = interpreter.get_input_details()\n",
    "    output_details = interpreter.get_output_details()\n",
    "\n",
    "    # Test model on random input data.\n",
    "    input_shape = input_details[0]['shape']\n",
    "    out_imgs = []\n",
    "    for img in xs:\n",
    "        #print(\"imgs:\", type(xs), xs.shape, type(xs[0]))\n",
    "        #img_ori_size = img.shape[0]\n",
    "        size = model_input_size\n",
    "        x = cv2.resize(img, (size, size), interpolation=cv2.INTER_AREA).reshape(size, size, 1)\n",
    "        #print(\"img:\", type(x), x.shape)\n",
    "        \n",
    "        x = x[None]\n",
    "        #input_data = np.array(np.random.random_sample(input_shape), dtype=np.float32)\n",
    "        #print(f\"input:{input_shape}, x:{x.shape}, type of shape{type(input_shape)}\")\n",
    "        if list(x.shape) == input_shape.tolist():\n",
    "            input_data = x\n",
    "        else:\n",
    "            raise ValueError(\"image shape error\")\n",
    "        interpreter.set_tensor(input_details[0]['index'], input_data.astype(np.float32))\n",
    "        interpreter.invoke()\n",
    "        # The function `get_tensor()` returns a copy of the tensor data.\n",
    "        # Use `tensor()` in order to get a pointer to the tensor.\n",
    "        output_data = interpreter.get_tensor(output_details[0]['index'])\n",
    "        size = result_img_size\n",
    "        out_img = cv2.resize(output_data[0], (size, size), interpolation=cv2.INTER_AREA).reshape(size, size, output_data.shape[-1])\n",
    "        out_imgs.append(out_img)\n",
    "    return out_imgs"
   ]
  },
  {
   "cell_type": "code",
   "execution_count": 97,
   "metadata": {},
   "outputs": [
    {
     "name": "stdout",
     "output_type": "stream",
     "text": [
      "(96, 96, 4)\n"
     ]
    }
   ],
   "source": [
    "tflite = r\"F:\\workspace\\tf2.0_out\\linknet18_32_0.5_multi_96\\linknet_model7.0posi.tflite\"\n",
    "imagefile = r\"F:\\workspace\\testSet\\testSet5.0_lit\\03_04L01\\frm-0010.png\"\n",
    "img = cv2.imread(imagefile, cv2.IMREAD_GRAYSCALE)\n",
    "clahe = cv2.createCLAHE(clipLimit=1.5, tileGridSize=(7, 7))\n",
    "img = clahe.apply(img)\n",
    "imgs = np.array([img[..., None]])\n",
    "tf_interpreter = use_tflite_load(tflite)\n",
    "ypred = use_tflite_predict(imgs, tf_interpreter, 96)\n",
    "print(ypred[0].shape)\n"
   ]
  },
  {
   "cell_type": "code",
   "execution_count": 98,
   "metadata": {},
   "outputs": [],
   "source": [
    "def prune_components(img, min_area_per=0.002, deep_prune=True):\n",
    "    image, contours, hier = cv2.findContours(img[:,:,3].astype(np.uint8),\n",
    "                                                    cv2.RETR_EXTERNAL, cv2.CHAIN_APPROX_SIMPLE)\n",
    "\n",
    "            # for each contour\n",
    "    mask = np.zeros(image.shape, dtype=np.uint8)\n",
    "\n",
    "    min_area = mask.size * min_area_per\n",
    "    print(min_area)\n",
    "    # sort contours by area\n",
    "    areas = np.array([cv2.contourArea(c) for c in contours])\n",
    "    print(\"areas:\", areas)\n",
    "    area_idx = np.argsort(areas)[::-1]\n",
    "    print(\"idx:\", area_idx)\n",
    "    areas = areas[area_idx]\n",
    "    print(\"areas:\", areas)\n",
    "    sorted_contours = np.array([c for c in contours])[area_idx]\n",
    "\n",
    "    # get rid of small contours\n",
    "    sorted_contours = np.array(sorted_contours)[areas>=min_area]\n",
    "    #for cnt in sorted_contours:\n",
    "    cv2.drawContours(mask, sorted_contours, -1, 1, -1)\n",
    "    \n",
    "    return mask"
   ]
  },
  {
   "cell_type": "code",
   "execution_count": 99,
   "metadata": {},
   "outputs": [
    {
     "name": "stdout",
     "output_type": "stream",
     "text": [
      "18.432000000000002\n",
      "areas: [4441.5 2461.5]\n",
      "idx: [0 1]\n",
      "areas: [4441.5 2461.5]\n"
     ]
    }
   ],
   "source": [
    "for i in ypred:\n",
    "    msk=prune_components(i)"
   ]
  },
  {
   "cell_type": "code",
   "execution_count": 138,
   "metadata": {},
   "outputs": [
    {
     "data": {
      "image/png": "[encoded data removed]",
      "text/plain": [
       "<Figure size 432x288 with 1 Axes>"
      ]
     },
     "metadata": {
      "needs_background": "light"
     },
     "output_type": "display_data"
    }
   ],
   "source": [
    "datas = ypred[0][:,:,0].flatten()\n",
    "#n, bins, patches = plt.hist(datas, 100, density=False, facecolor='g', alpha=0.75)\n",
    "plt.hist(datas, bins=100)\n",
    "#plt.eventplot(datas)\n",
    "#plt.scatter(datas, datas)\n",
    "#plt.plot(data)\n",
    "plt.xlabel('Smarts')\n",
    "plt.ylabel('Probability')\n",
    "plt.title('Histogram of IQ')\n",
    "#plt.text(60, .025, r'$\\mu=100,\\ \\sigma=15$')\n",
    "#plt.xlim(0, 10000)\n",
    "#plt.ylim(0, 1)\n",
    "plt.grid(True)\n",
    "plt.show()"
   ]
  },
  {
   "cell_type": "code",
   "execution_count": 91,
   "metadata": {},
   "outputs": [
    {
     "name": "stdout",
     "output_type": "stream",
     "text": [
      "(448, 448) (96, 96)\n",
      "2: (448, 448, 3) (448, 448, 3) uint8 float32\n"
     ]
    }
   ],
   "source": [
    "y0 = ypred[0][:,:,2]\n",
    "x0 = img\n",
    "\n",
    "print(x0.shape, y0.shape)\n",
    "s = (448, 448)\n",
    "x = cv2.resize(x0, s)\n",
    "y = cv2.resize(y0, s)\n",
    "\n",
    "img2 = cv2.cvtColor(x, cv2.COLOR_GRAY2BGR)\n",
    "msk2 = cv2.cvtColor(y, cv2.COLOR_GRAY2BGR)\n",
    "\n",
    "mask_show = (msk2*255).astype(np.uint8)\n",
    "mask_show = clahe.apply(img)\n",
    "cv2.imshow(\"msk\", mask_show)\n",
    "print(\"2:\", img2.shape, msk2.shape, img2.dtype, msk2.dtype)\n",
    "cmsk = np.zeros(msk2.shape)\n",
    "cmsk[:,:,0]=128\n",
    "cmsk[:,:,1]= y*255\n",
    "cmsk[:,:,2]= y*255\n",
    "msk2 = cmsk.astype(np.uint8)\n",
    "img3 = cv2.add(img2, msk2)\n",
    "\n",
    "\n",
    "cv2.imshow(\"img3\", img3)\n",
    "cv2.waitKey(0)\n",
    "cv2.destroyAllWindows()"
   ]
  },
  {
   "cell_type": "code",
   "execution_count": null,
   "metadata": {},
   "outputs": [],
   "source": []
  }
 ],
 "metadata": {
  "kernelspec": {
   "display_name": "Python 3",
   "language": "python",
   "name": "python3"
  },
  "language_info": {
   "codemirror_mode": {
    "name": "ipython",
    "version": 3
   },
   "file_extension": ".py",
   "mimetype": "text/x-python",
   "name": "python",
   "nbconvert_exporter": "python",
   "pygments_lexer": "ipython3",
   "version": "3.6.9"
  }
 },
 "nbformat": 4,
 "nbformat_minor": 2
}
