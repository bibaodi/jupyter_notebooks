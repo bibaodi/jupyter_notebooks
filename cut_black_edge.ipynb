{
 "cells": [
  {
   "cell_type": "markdown",
   "metadata": {},
   "source": [
    "### 使用新的方法对图像有效区域进行计算(去黑边)"
   ]
  },
  {
   "cell_type": "code",
   "execution_count": 1,
   "metadata": {},
   "outputs": [],
   "source": [
    "import logging\n",
    "import sys, os\n",
    "import time\n",
    "import glob\n",
    "import numpy as np\n",
    "import csv\n",
    "import json\n",
    "import functools\n",
    "from collections import deque\n",
    "import shutil\n",
    "from PIL import Image"
   ]
  },
  {
   "cell_type": "code",
   "execution_count": 5,
   "metadata": {},
   "outputs": [],
   "source": [
    "imagefile = r\"F:\\workspace\\empty_scan_test\\testSet5.0\\1.3.6.1.4.1.52026.48447242.6617.5.1.1.dcm_frms\\frm-0001.png\"\n",
    "im = Image.open(imagefile)\n",
    "img = np.array(im)\n"
   ]
  },
  {
   "cell_type": "code",
   "execution_count": 19,
   "metadata": {},
   "outputs": [
    {
     "name": "stdout",
     "output_type": "stream",
     "text": [
      "numpy (1024, 992, 3) 3047424 [225 225 225]\n",
      "RGB\n"
     ]
    }
   ],
   "source": [
    "print(\"numpy\", img.shape, img.size, img[0][100])\n",
    "print(im.mode)"
   ]
  },
  {
   "cell_type": "code",
   "execution_count": 20,
   "metadata": {},
   "outputs": [
    {
     "name": "stdout",
     "output_type": "stream",
     "text": [
      "(1024, 992) 1015808 675\n"
     ]
    }
   ],
   "source": [
    "wh = img.sum(axis=2)\n",
    "print(wh.shape, wh.size, wh[0][100])"
   ]
  },
  {
   "cell_type": "code",
   "execution_count": 34,
   "metadata": {},
   "outputs": [
    {
     "name": "stdout",
     "output_type": "stream",
     "text": [
      "0\n",
      "(1024,) [0 0 0 0 0 0 0 0 0 0] [3 3 3 3 3 3 3 3 3 3 3 3 3 3 6 6 6 6 9 9]\n",
      "(1024,) [0 0 0 0 0 0 0 0 0 0] [3 3 3 3 3 3 3 3 3 3 3 3 3 3 6 6 6 6 9 9]\n",
      "<class 'numpy.ndarray'> 4.2\n",
      "1\n",
      "(1024,) [0 0 0 0 0 0 0 0 0 0] [0 0 0 0 0 0 0 0 3 3 3 3 3 3 6 6 6 6 6 9]\n",
      "(1024,) [0 0 0 0 0 0 0 0 0 0] [0 0 0 0 0 0 0 0 3 3 3 3 3 3 6 6 6 6 6 9]\n",
      "<class 'numpy.ndarray'> 2.85\n",
      "2\n",
      "(1024,) [0 0 0 0 0 0 0 0 0 0] [ 3  3  3  3  3  3  3  3  3  3  3  6  6  6  6  6  9  9  9 12]\n",
      "(1024,) [0 0 0 0 0 0 0 0 0 0] [ 3  3  3  3  3  3  3  3  3  3  3  6  6  6  6  6  9  9  9 12]\n",
      "<class 'numpy.ndarray'> 5.1\n",
      "3\n",
      "(1024,) [0 0 0 0 0 0 0 0 0 0] [3 3 3 3 3 3 3 3 3 3 3 3 3 6 6 6 6 9 9 9]\n",
      "(1024,) [0 0 0 0 0 0 0 0 0 0] [3 3 3 3 3 3 3 3 3 3 3 3 3 6 6 6 6 9 9 9]\n",
      "<class 'numpy.ndarray'> 4.5\n",
      "4\n",
      "(1024,) [0 0 0 0 0 0 0 0 0 0] [ 66  66  75  81  81  90  90  99  99 102 105 111 120 126 138 141 150 186\n",
      " 219 234]\n",
      "(1024,) [0 0 0 0 0 0 0 0 0 0] [ 66  66  75  81  81  90  90  99  99 102 105 111 120 126 138 141 150 186\n",
      " 219 234]\n",
      "<class 'numpy.ndarray'> 118.95\n"
     ]
    }
   ],
   "source": [
    "wh2 = wh.transpose()\n",
    "for col in range(wh.shape[-1]):\n",
    "    print(col)\n",
    "    column = wh2[col]\n",
    "    print(column.shape, column[0:10], column[-20:])\n",
    "    sorted_col = column.sort()\n",
    "    print(column.shape, column[0:10], column[-20:])\n",
    "    top20 = column[-20:]\n",
    "    print(type(top20), top20.mean())\n",
    "    if top20.mean() > 10:\n",
    "        left = col\n",
    "        break\n",
    "    \n",
    "    "
   ]
  },
  {
   "cell_type": "code",
   "execution_count": 38,
   "metadata": {},
   "outputs": [
    {
     "name": "stdout",
     "output_type": "stream",
     "text": [
      "991 (992, 1024)\n",
      "(1024,) [0 0 0 0 0 0 0 0 0 0] [3 3 3 3 3 3 3 3 3 3 3 3 3 3 3 6 6 6 6 6]\n",
      "(1024,) [0 0 0 0 0 0 0 0 0 0] [3 3 3 3 3 3 3 3 3 3 3 3 3 3 3 6 6 6 6 6]\n",
      "<class 'numpy.ndarray'> 3.75\n",
      "990 (992, 1024)\n",
      "(1024,) [0 0 0 0 0 0 0 0 0 0] [3 3 3 3 3 3 6 6 6 6 6 6 6 6 6 6 6 9 9 9]\n",
      "(1024,) [0 0 0 0 0 0 0 0 0 0] [3 3 3 3 3 3 6 6 6 6 6 6 6 6 6 6 6 9 9 9]\n",
      "<class 'numpy.ndarray'> 5.55\n",
      "989 (992, 1024)\n",
      "(1024,) [0 0 0 0 0 0 0 0 0 0] [ 0  0  0  0  3  3  3  3  3  3  3  3  3  6  6  6  6  9  9 12]\n",
      "(1024,) [0 0 0 0 0 0 0 0 0 0] [ 0  0  0  0  3  3  3  3  3  3  3  3  3  6  6  6  6  9  9 12]\n",
      "<class 'numpy.ndarray'> 4.05\n",
      "988 (992, 1024)\n",
      "(1024,) [0 0 0 0 0 0 0 0 0 0] [3 3 3 3 3 3 3 3 3 3 6 6 6 6 6 6 9 9 9 9]\n",
      "(1024,) [0 0 0 0 0 0 0 0 0 0] [3 3 3 3 3 3 3 3 3 3 6 6 6 6 6 6 9 9 9 9]\n",
      "<class 'numpy.ndarray'> 5.1\n",
      "987 (992, 1024)\n",
      "(1024,) [0 0 0 0 0 0 0 0 0 0] [ 93  99 102 105 123 129 132 135 144 150 150 165 165 168 177 180 186 213\n",
      " 240 261]\n",
      "(1024,) [0 0 0 0 0 0 0 0 0 0] [ 93  99 102 105 123 129 132 135 144 150 150 165 165 168 177 180 186 213\n",
      " 240 261]\n",
      "<class 'numpy.ndarray'> 155.85\n"
     ]
    }
   ],
   "source": [
    "for col in range(wh.shape[-1]-1, -1, -1):\n",
    "    print(col, wh2.shape)\n",
    "    column = wh2[col]\n",
    "    print(column.shape, column[0:10], column[-20:])\n",
    "    sorted_col = column.sort()\n",
    "    print(column.shape, column[0:10], column[-20:])\n",
    "    top20 = column[-20:]\n",
    "    print(type(top20), top20.mean())\n",
    "    if top20.mean() > 10:\n",
    "        right = col\n",
    "        break"
   ]
  },
  {
   "cell_type": "code",
   "execution_count": 39,
   "metadata": {},
   "outputs": [
    {
     "name": "stdout",
     "output_type": "stream",
     "text": [
      "4 987\n"
     ]
    }
   ],
   "source": [
    "print(left, right)"
   ]
  },
  {
   "cell_type": "code",
   "execution_count": null,
   "metadata": {},
   "outputs": [],
   "source": []
  }
 ],
 "metadata": {
  "kernelspec": {
   "display_name": "Python 3",
   "language": "python",
   "name": "python3"
  },
  "language_info": {
   "codemirror_mode": {
    "name": "ipython",
    "version": 3
   },
   "file_extension": ".py",
   "mimetype": "text/x-python",
   "name": "python",
   "nbconvert_exporter": "python",
   "pygments_lexer": "ipython3",
   "version": "3.6.8"
  }
 },
 "nbformat": 4,
 "nbformat_minor": 2
}
