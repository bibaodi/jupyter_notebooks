{
 "cells": [
  {
   "cell_type": "markdown",
   "metadata": {},
   "source": [
    "### 我在一个函数中打开了一个图像, 然后将图像的矩阵返回到调用函数中, \n",
    "### 调用函数需要继续操作矩阵并生成新矩阵, 本经聚合矩阵为新矩阵的结果只得到了一个一维的包含就矩阵地址的一维数组\n",
    "### 研究下python的参数传递用法, 然后解决这个问题.\n"
   ]
  },
  {
   "cell_type": "code",
   "execution_count": 22,
   "metadata": {},
   "outputs": [],
   "source": [
    "import numpy as np\n",
    "import cv2\n",
    "import glob\n",
    "import os\n",
    "\n",
    "CROP_SIZE=448\n",
    "img_dir = r\"F:\\workspace\\empty_scan_test\\testSet5.0_lit\\03_04L01\""
   ]
  },
  {
   "cell_type": "code",
   "execution_count": 23,
   "metadata": {},
   "outputs": [],
   "source": [
    "def get_image_list(root):\n",
    "    extension = '.png'\n",
    "    pattern = os.path.join(root, f\"*{extension}\")\n",
    "    imglist = glob.glob(pattern)\n",
    "    imglist.sort()\n",
    "    #print(imglist)\n",
    "    return imglist"
   ]
  },
  {
   "cell_type": "code",
   "execution_count": 61,
   "metadata": {},
   "outputs": [],
   "source": [
    "def crop_img_and_remove_black_edge(img, true_width_left: int,\n",
    "                                   true_width_right: int):\n",
    "    r, c = img.shape[:2]\n",
    "    true_width = true_width_right - true_width_left + 1\n",
    "    if true_width < 1:\n",
    "        raise ValueError(\"true width wrong!\")\n",
    "    row_start = 0\n",
    "    if true_width > r:\n",
    "        raise ValueError(f\"true width can not be cuted r{r}c{c}t{true_width}\")\n",
    "    else:\n",
    "        col_start = true_width_left\n",
    "        size = true_width\n",
    "    xshift = row_start\n",
    "    yshift = 0\n",
    "    return img[row_start:row_start + size, col_start:col_start +\n",
    "               size], xshift, yshift\n",
    "\n",
    "def get_image_actual_width_index_range_mem(imagebuff=None):\n",
    "    \"\"\"\n",
    "        根据已经读入内存的图片的矩阵获取图像有效宽度, 输入参数类型为numpy.ndarray\n",
    "        返回tuple(left, right) 代表有效列的索引\n",
    "    \"\"\"\n",
    "    if not imagebuff.any() or not isinstance(imagebuff, np.ndarray):\n",
    "        raise ValueError(\"param is not np.ndarray\")\n",
    "    if len(imagebuff.shape) != 2 and len(imagebuff.shape) != 3:\n",
    "        raise ValueError(\n",
    "            \"image must in IMREAD_GRAYSCALE or IMREAD_COLOR(height, row, gray)!\"\n",
    "        )\n",
    "\n",
    "    gray_img = imagebuff.sum(axis=2) if len(imagebuff) == 3 else imagebuff\n",
    "\n",
    "    gray_img_t = gray_img.transpose()\n",
    "\n",
    "    left = 0\n",
    "    right = gray_img_t.shape[0] - 1\n",
    "    for col in range(gray_img_t.shape[0]):\n",
    "        column = gray_img_t[col]\n",
    "        column.sort()\n",
    "        top20 = column[-20:]\n",
    "        if top20.mean() > 10:\n",
    "            left = col\n",
    "            break\n",
    "    for col in range(gray_img_t.shape[0] - 1, -1, -1):\n",
    "        column = gray_img_t[col]\n",
    "        column.sort()\n",
    "        top20 = column[-20:]\n",
    "        if top20.mean() > 10:\n",
    "            right = col\n",
    "            break\n",
    "    return (left, right)\n",
    "\n",
    "\n",
    "def get_image_actual_width_index_range(imagefile=None):\n",
    "    \"\"\"\n",
    "        获取图片的实际有效宽度的索引范围\n",
    "    \"\"\"\n",
    "    if not imagefile:\n",
    "        raise ValueError(\"imagefile is None\")\n",
    "    if not os.path.isfile:\n",
    "        msg = f\"imagefile {imagefile} not exist\"\n",
    "        raise ValueError(msg)\n",
    "    img = cv2.imread(imagefile, cv2.IMREAD_COLOR)\n",
    "    if not img.size:\n",
    "        raise ValueError(\"imagefile read None\")\n",
    "        return None\n",
    "    else:\n",
    "        return get_image_actual_width_index_range_mem(img)\n",
    "\n",
    "def correct_image_size(img_array, zoom=False):\n",
    "    \"\"\"\n",
    "        crop+resize. 返回处理好的图片并返回X轴偏移以及缩放比例. \n",
    "    \"\"\"\n",
    "    #print(f\"correct_image_size: array shape is {img_array.shape}, type({type(img_array)})\")\n",
    "    if not img_array.any() or not isinstance(img_array, np.ndarray):\n",
    "        raise ValueError(\"param is not np.ndarray\")\n",
    "    if len(img_array.shape) != 2 and len(img_array.shape) != 3:\n",
    "        raise ValueError(\n",
    "            \"image must in IMREAD_GRAYSCALE or IMREAD_COLOR(height, row, gray)!\"\n",
    "        )\n",
    "    true_width = get_image_actual_width_index_range_mem(img_array.copy())\n",
    "    img_croped, xshift, _ = crop_img_and_remove_black_edge(\n",
    "        img_array, true_width[0], true_width[1])\n",
    "    if zoom:\n",
    "        img_array_new = cv2.resize(img_croped,\n",
    "                                   dsize=(CROP_SIZE, CROP_SIZE),\n",
    "                                   interpolation=cv2.INTER_AREA)\n",
    "    else:\n",
    "        img_array_new = img_croped\n",
    "    ratio = img_array_new.shape[0] / img_croped.shape[0]\n",
    "    return img_array_new, xshift, ratio\n",
    "\n",
    "def read_image_and_correct_it(imagefile=None, zoom=False):\n",
    "    \"\"\"\n",
    "    读取图片, 如果图片不是448*448的那么进行crop, resize\n",
    "    注意: 此函数调用后需要配套修改json的坐标\n",
    "    \"\"\"\n",
    "    #print(f\"read_image_and_correct_it: file is {imagefile}\")\n",
    "    if not imagefile:\n",
    "        raise ValueError(\"imagefile is None\")\n",
    "    if not os.path.isfile:\n",
    "        msg = f\"imagefile {imagefile} not exist\"\n",
    "        raise ValueError(msg)\n",
    "    img = cv2.imread(imagefile, cv2.IMREAD_GRAYSCALE)\n",
    "    print(\"read_image_and_correct_it: img id\", id(img))\n",
    "    if not img.size:\n",
    "        raise ValueError(\"imagefile read None\")\n",
    "    #print(f\"read_image_and_correct_it: array shape is {img.shape}, type({type(img)})\")\n",
    "    xshift = 0\n",
    "    ratio = 1\n",
    "    if img.shape[0] == CROP_SIZE:\n",
    "        new_img = img\n",
    "    else:\n",
    "        new_img, xshift, ratio = correct_image_size(img, zoom)\n",
    "\n",
    "    return (new_img, xshift, ratio)"
   ]
  },
  {
   "cell_type": "code",
   "execution_count": 37,
   "metadata": {},
   "outputs": [],
   "source": [
    "def read_image_and_correct_it2(imagefile=None, imgs=None, zoom=False):\n",
    "    \"\"\"\n",
    "    读取图片, 如果图片不是448*448的那么进行crop, resize\n",
    "    注意: 此函数调用后需要配套修改json的坐标\n",
    "    \"\"\"\n",
    "    #print(f\"read_image_and_correct_it: file is {imagefile}\")\n",
    "    if not imagefile:\n",
    "        raise ValueError(\"imagefile is None\")\n",
    "    if not os.path.isfile:\n",
    "        msg = f\"imagefile {imagefile} not exist\"\n",
    "        raise ValueError(msg)\n",
    "    imgs[len(imgs)-1] = cv2.imread(imagefile, cv2.IMREAD_GRAYSCALE)\n",
    "    img = imgs[len(imgs)-1]\n",
    "    print(\"read_image_and_correct_it: img id\", id(img))\n",
    "    if not img.size:\n",
    "        raise ValueError(\"imagefile read None\")\n",
    "    #print(f\"read_image_and_correct_it: array shape is {img.shape}, type({type(img)})\")\n",
    "    xshift = 0\n",
    "    ratio = 1\n",
    "    if img.shape[0] == CROP_SIZE:\n",
    "        new_img = img\n",
    "    else:\n",
    "        new_img, xshift, ratio = correct_image_size(img)\n",
    "\n",
    "    return (new_img, xshift, ratio)"
   ]
  },
  {
   "cell_type": "code",
   "execution_count": 33,
   "metadata": {},
   "outputs": [
    {
     "name": "stdout",
     "output_type": "stream",
     "text": [
      "read_image_and_correct_it: img id 2103163142832\n",
      "img id 2103163142832\n",
      "read_image_and_correct_it: img id 2103163147488\n",
      "img id 2103163147488\n",
      "read_image_and_correct_it: img id 2103163149008\n",
      "img id 2103163149008\n",
      "read_image_and_correct_it: img id 2103163148928\n",
      "img id 2103163147408\n",
      "read_image_and_correct_it: img id 2103163126208\n",
      "img id 2103163149648\n",
      "read_image_and_correct_it: img id 2103163149568\n",
      "img id 2103163149328\n",
      "read_image_and_correct_it: img id 2103163182656\n",
      "img id 2103163182016\n"
     ]
    }
   ],
   "source": [
    "imgfiles = get_image_list(img_dir)\n",
    "\n",
    "imgs = []\n",
    "\n",
    "for imgfile in imgfiles:\n",
    "    img_datas = read_image_and_correct_it(imgfile)\n",
    "    img = img_datas[0]\n",
    "    print(\"img id\", id(img))\n",
    "    xshift = img_datas[1]\n",
    "    ratio = img_datas[2]\n",
    "    imgs.append(img)\n",
    "    \n",
    "\n",
    "    "
   ]
  },
  {
   "cell_type": "code",
   "execution_count": 50,
   "metadata": {},
   "outputs": [],
   "source": [
    "\n",
    "def resize(img: np.ndarray, size: int=None, interpolation: int=cv2.INTER_AREA) -> np.ndarray:\n",
    "    \"\"\"\n",
    "    Returns a square resized image using `cv2.resize`\n",
    "\n",
    "    Args:\n",
    "        img (ndarray): Single image array.\n",
    "        min_size (int): Optional output size (otherwise uses minimum or rows and cols)\n",
    "        interpolation (int): cv2 interpolation method (default cv2.INTER_AREA)\n",
    "\n",
    "    Returns:\n",
    "        ndarray: resized image array\n",
    "    \"\"\"\n",
    "    r, c, nch = img.shape\n",
    "    if size is None:\n",
    "        size = min(r, c)\n",
    "    #print(f\"transform_resize: before shape{img.shape}\")\n",
    "    new_img = cv2.resize(img, (size, size), interpolation=interpolation)\n",
    "    #print(f\"transform_resize: after1 shape{img.shape}, new{new_img.shape}\")\n",
    "    new_img2 = new_img.reshape(size, size, nch)\n",
    "    #print(f\"transform_resize: after2 shape{new_img.shape}, new{new_img2.shape}\")\n",
    "    #return cv2.resize(img, (size, size), interpolation=interpolation).reshape(size, size, nch)\n",
    "    return new_img"
   ]
  },
  {
   "cell_type": "code",
   "execution_count": 36,
   "metadata": {},
   "outputs": [
    {
     "name": "stdout",
     "output_type": "stream",
     "text": [
      ">>before process img_list 7 img (448, 448, 1) 2103163126848\n",
      ">>after process img_array.shape (7,) <class 'numpy.ndarray'>\n"
     ]
    }
   ],
   "source": [
    "import copy\n",
    "\n",
    "img_list = [img[..., None] for img in imgs]\n",
    "print(\">>before process img_list\", len(img_list), 'img', img_list[0].shape, id(img_list[0]))\n",
    "img_array = np.array(copy.deepcopy(img_list))\n",
    "print(\">>after process img_array.shape\", img_array.shape, type(img_array))"
   ]
  },
  {
   "cell_type": "code",
   "execution_count": 38,
   "metadata": {},
   "outputs": [
    {
     "name": "stdout",
     "output_type": "stream",
     "text": [
      "read_image_and_correct_it: img id 2103141058960\n",
      "img id 2103141058960\n",
      "read_image_and_correct_it: img id 2103162748160\n",
      "img id 2103162748160\n",
      "read_image_and_correct_it: img id 2103163147408\n",
      "img id 2103163147408\n",
      "read_image_and_correct_it: img id 2103163149648\n",
      "img id 2103163149328\n",
      "read_image_and_correct_it: img id 2103163308032\n",
      "img id 2103163308512\n",
      "read_image_and_correct_it: img id 2103163145072\n",
      "img id 2103163308672\n",
      "read_image_and_correct_it: img id 2103163308592\n",
      "img id 2103163308832\n"
     ]
    }
   ],
   "source": [
    "imgfiles = get_image_list(img_dir)\n",
    "\n",
    "imgs = []\n",
    "\n",
    "for imgfile in imgfiles:\n",
    "    imgs.append(None)\n",
    "    img_datas = read_image_and_correct_it2(imgfile, imgs)\n",
    "    #img = img_datas[0]\n",
    "    print(\"img id\", id(img))\n",
    "    xshift = img_datas[1]\n",
    "    ratio = img_datas[2]\n",
    "    imgs.append(img)"
   ]
  },
  {
   "cell_type": "code",
   "execution_count": 54,
   "metadata": {},
   "outputs": [
    {
     "name": "stdout",
     "output_type": "stream",
     "text": [
      "a (14,)\n",
      ">>before process img_list 14 img (448, 448, 1) 2103163280880\n",
      ">>after process img_array.shape (14,) <class 'numpy.ndarray'>\n",
      "2103163209864\n",
      "2103163280880\n",
      "2103163311568\n",
      "2103163311648\n",
      "2103163311728\n",
      "2103163311808\n",
      "2103163311888\n",
      "2103163311968\n",
      "2103163312048\n",
      "2103163312128\n",
      "2103163312208\n",
      "2103163312288\n",
      "2103163312368\n",
      "2103163312448\n",
      "2103163312528\n"
     ]
    }
   ],
   "source": [
    "imgs_a = np.array(imgs)\n",
    "print(\"a\", imgs_a.shape)\n",
    "img_list = [img[..., None].reshape(*(img.shape), 1) for img in imgs]\n",
    "print(\">>before process img_list\", len(img_list), 'img', img_list[0].shape, id(img_list[0]))\n",
    "img_array = np.array(img_list)\n",
    "print(\">>after process img_array.shape\", img_array.shape, type(img_array))\n",
    "print(id(img_list))\n",
    "for i in range(len(img_list)):\n",
    "    print(id(img_list[i]))"
   ]
  },
  {
   "cell_type": "code",
   "execution_count": 45,
   "metadata": {},
   "outputs": [
    {
     "name": "stdout",
     "output_type": "stream",
     "text": [
      "a (14,)\n",
      "transform_resize: before shape(448, 448, 1)\n",
      "transform_resize: after1 shape(448, 448, 1), new(448, 448)\n",
      "transform_resize: after2 shape(448, 448), new(448, 448, 1)\n",
      "transform_resize: before shape(448, 448, 1)\n",
      "transform_resize: after1 shape(448, 448, 1), new(448, 448)\n",
      "transform_resize: after2 shape(448, 448), new(448, 448, 1)\n",
      "transform_resize: before shape(448, 448, 1)\n",
      "transform_resize: after1 shape(448, 448, 1), new(448, 448)\n",
      "transform_resize: after2 shape(448, 448), new(448, 448, 1)\n",
      "transform_resize: before shape(448, 448, 1)\n",
      "transform_resize: after1 shape(448, 448, 1), new(448, 448)\n",
      "transform_resize: after2 shape(448, 448), new(448, 448, 1)\n",
      "transform_resize: before shape(448, 448, 1)\n",
      "transform_resize: after1 shape(448, 448, 1), new(448, 448)\n",
      "transform_resize: after2 shape(448, 448), new(448, 448, 1)\n",
      "transform_resize: before shape(448, 448, 1)\n",
      "transform_resize: after1 shape(448, 448, 1), new(448, 448)\n",
      "transform_resize: after2 shape(448, 448), new(448, 448, 1)\n",
      "transform_resize: before shape(1004, 1712, 1)\n",
      "transform_resize: after1 shape(1004, 1712, 1), new(448, 448)\n",
      "transform_resize: after2 shape(448, 448), new(448, 448, 1)\n",
      "transform_resize: before shape(965, 965, 1)\n",
      "transform_resize: after1 shape(965, 965, 1), new(448, 448)\n",
      "transform_resize: after2 shape(448, 448), new(448, 448, 1)\n",
      "transform_resize: before shape(1004, 1712, 1)\n",
      "transform_resize: after1 shape(1004, 1712, 1), new(448, 448)\n",
      "transform_resize: after2 shape(448, 448), new(448, 448, 1)\n",
      "transform_resize: before shape(965, 965, 1)\n",
      "transform_resize: after1 shape(965, 965, 1), new(448, 448)\n",
      "transform_resize: after2 shape(448, 448), new(448, 448, 1)\n",
      "transform_resize: before shape(1004, 1712, 1)\n",
      "transform_resize: after1 shape(1004, 1712, 1), new(448, 448)\n",
      "transform_resize: after2 shape(448, 448), new(448, 448, 1)\n",
      "transform_resize: before shape(965, 965, 1)\n",
      "transform_resize: after1 shape(965, 965, 1), new(448, 448)\n",
      "transform_resize: after2 shape(448, 448), new(448, 448, 1)\n",
      "transform_resize: before shape(1004, 1712, 1)\n",
      "transform_resize: after1 shape(1004, 1712, 1), new(448, 448)\n",
      "transform_resize: after2 shape(448, 448), new(448, 448, 1)\n",
      "transform_resize: before shape(965, 965, 1)\n",
      "transform_resize: after1 shape(965, 965, 1), new(448, 448)\n",
      "transform_resize: after2 shape(448, 448), new(448, 448, 1)\n",
      ">>before process img_list 14 img (448, 448, 1) 2103163277520\n",
      ">>after process img_array.shape (14, 448, 448, 1) <class 'numpy.ndarray'>\n"
     ]
    }
   ],
   "source": [
    "imgs_a = np.array(imgs)\n",
    "print(\"a\", imgs_a.shape)\n",
    "img_list = [resize(img[..., None], 448) for img in imgs]\n",
    "print(\">>before process img_list\", len(img_list), 'img', img_list[0].shape, id(img_list[0]))\n",
    "img_array = np.array(img_list)\n",
    "print(\">>after process img_array.shape\", img_array.shape, type(img_array))"
   ]
  },
  {
   "cell_type": "code",
   "execution_count": 51,
   "metadata": {},
   "outputs": [
    {
     "name": "stdout",
     "output_type": "stream",
     "text": [
      "a (14,)\n",
      ">>before process img_list 14 img (448, 448) 2103163280960\n",
      ">>after process img_array.shape (14, 448, 448) <class 'numpy.ndarray'>\n"
     ]
    }
   ],
   "source": [
    "imgs_a = np.array(imgs)\n",
    "print(\"a\", imgs_a.shape)\n",
    "img_list = [resize(img[..., None], 448) for img in imgs]\n",
    "print(\">>before process img_list\", len(img_list), 'img', img_list[0].shape, id(img_list[0]))\n",
    "img_array = np.array(img_list)\n",
    "print(\">>after process img_array.shape\", img_array.shape, type(img_array))"
   ]
  },
  {
   "cell_type": "code",
   "execution_count": 53,
   "metadata": {},
   "outputs": [
    {
     "name": "stdout",
     "output_type": "stream",
     "text": [
      "2103163150984\n",
      "2103163280960\n",
      "2103163310128\n",
      "2103163310208\n",
      "2103163310288\n",
      "2103163126208\n",
      "2103163310368\n",
      "2103163310448\n",
      "2103163310528\n",
      "2103163310608\n",
      "2103163310688\n",
      "2103163310768\n",
      "2103163310848\n",
      "2103163310928\n",
      "2103163311008\n"
     ]
    }
   ],
   "source": [
    "print(id(img_list))\n",
    "for i in range(len(img_list)):\n",
    "    print(id(img_list[i]))"
   ]
  },
  {
   "cell_type": "code",
   "execution_count": 62,
   "metadata": {},
   "outputs": [
    {
     "name": "stdout",
     "output_type": "stream",
     "text": [
      "read_image_and_correct_it: img id 2103163451712\n",
      "img id 2103163451712\n",
      "read_image_and_correct_it: img id 2103163452032\n",
      "img id 2103163452032\n",
      "read_image_and_correct_it: img id 2103163328352\n",
      "img id 2103163328352\n",
      "read_image_and_correct_it: img id 2103163328272\n",
      "img id 2103163326752\n",
      "read_image_and_correct_it: img id 2103163452432\n",
      "img id 2103163329312\n",
      "read_image_and_correct_it: img id 2103163452432\n",
      "img id 2103163327072\n",
      "read_image_and_correct_it: img id 2103163452432\n",
      "img id 2103163326512\n",
      "(448, 448, 1)\n",
      "(448, 448, 1)\n",
      "(448, 448, 1)\n",
      "(448, 448, 1)\n",
      "(448, 448, 1)\n",
      "(448, 448, 1)\n",
      "(448, 448, 1)\n",
      ">>before process img_list 7 img (448, 448, 1) 2103163452432\n",
      ">>after process img_array.shape (7, 448, 448) <class 'numpy.ndarray'>\n",
      "2103163282376\n"
     ]
    }
   ],
   "source": [
    "imgfiles = get_image_list(img_dir)\n",
    "\n",
    "imgs = []\n",
    "\n",
    "for imgfile in imgfiles:\n",
    "    img_datas = read_image_and_correct_it(imgfile, True)\n",
    "    img = img_datas[0]\n",
    "    print(\"img id\", id(img))\n",
    "    xshift = img_datas[1]\n",
    "    ratio = img_datas[2]\n",
    "    imgs.append(img)\n",
    "img_list = [img[..., None] for img in imgs]\n",
    "for i in img_list:\n",
    "    print(i.shape)\n",
    "print(\">>before process img_list\", len(img_list), 'img', img_list[0].shape, id(img_list[0]))\n",
    "img_array = np.stack(imgs, axis=0)\n",
    "print(\">>after process img_array.shape\", img_array.shape, type(img_array))\n",
    "print(id(img_list))\n"
   ]
  },
  {
   "cell_type": "code",
   "execution_count": null,
   "metadata": {},
   "outputs": [],
   "source": []
  }
 ],
 "metadata": {
  "kernelspec": {
   "display_name": "Python 3",
   "language": "python",
   "name": "python3"
  },
  "language_info": {
   "codemirror_mode": {
    "name": "ipython",
    "version": 3
   },
   "file_extension": ".py",
   "mimetype": "text/x-python",
   "name": "python",
   "nbconvert_exporter": "python",
   "pygments_lexer": "ipython3",
   "version": "3.6.8"
  }
 },
 "nbformat": 4,
 "nbformat_minor": 2
}
