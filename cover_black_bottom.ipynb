{
 "cells": [
  {
   "cell_type": "markdown",
   "metadata": {},
   "source": [
    "*为了支持手持超声中深度小于宽度38.4的场景, 需要训练新的模型支持图片纵向添加黑边的情况*\n",
    "因为当前图片绝大部分方的, 所以需要1. 将方图片进行底部涂黑处理; 2. 将宽度大于深度的进行补充黑色处理"
   ]
  },
  {
   "cell_type": "code",
   "execution_count": 7,
   "metadata": {},
   "outputs": [],
   "source": [
    "import cv2\n",
    "import numpy as np\n",
    "import os\n",
    "import sys\n",
    "import math\n"
   ]
  },
  {
   "cell_type": "code",
   "execution_count": 39,
   "metadata": {
    "scrolled": true
   },
   "outputs": [
    {
     "name": "stdout",
     "output_type": "stream",
     "text": [
      "im.shape: (492, 988, 3); uint8\n",
      "bottom: 345; im.shape: (492, 492, 3)\n",
      "bottom: 345; im.shape: (492, 492, 3);padding.shape: (16, 492, 3)\n",
      "bottom: 345; im.shape: (508, 492, 3);padding.shape: (16, 492, 3)\n"
     ]
    }
   ],
   "source": [
    "workspace=r\"E:\\tmp\"\n",
    "imgf=\"frm-0001.png\"\n",
    "os.chdir(workspace)\n",
    "img = cv2.imread(imgf)\n",
    "print(f\"im.shape: {img.shape}; {img.dtype}\")\n",
    "width_start = math.ceil((img.shape[1]-img.shape[0])/2)\n",
    "img = img[:, width_start:img.shape[1]-width_start, :]\n",
    "bottom = math.ceil((1-0.3)*img.shape[0])\n",
    "print(f\"bottom: {bottom}; im.shape: {img.shape}\")\n",
    "img[bottom:,...]=np.random.randn(img.shape[0]-bottom, *img.shape[1:]).astype(np.uint8)\n",
    "padding = np.zeros((16, img.shape[1], img.shape[2]), dtype=np.uint8)\n",
    "#padding = np.random.randn(32, 492, 3).astype(np.uint8)\n",
    "#padding += 128\n",
    "print(f\"bottom: {bottom}; im.shape: {img.shape};padding.shape: {padding.shape}\")\n",
    "img = np.concatenate((img, padding), axis=0)\n",
    "\n",
    "print(f\"bottom: {bottom}; im.shape: {img.shape};padding.shape: {padding.shape}\")\n",
    "cv2.imshow('original', img)\n",
    "\n",
    "cv2.waitKey(0)\n",
    "cv2.destroyAllWindows()"
   ]
  },
  {
   "cell_type": "code",
   "execution_count": null,
   "metadata": {},
   "outputs": [],
   "source": []
  }
 ],
 "metadata": {
  "kernelspec": {
   "display_name": "Python 3",
   "language": "python",
   "name": "python3"
  },
  "language_info": {
   "codemirror_mode": {
    "name": "ipython",
    "version": 3
   },
   "file_extension": ".py",
   "mimetype": "text/x-python",
   "name": "python",
   "nbconvert_exporter": "python",
   "pygments_lexer": "ipython3",
   "version": "3.6.5"
  }
 },
 "nbformat": 4,
 "nbformat_minor": 2
}
