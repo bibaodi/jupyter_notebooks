{
 "cells": [
  {
   "cell_type": "code",
   "execution_count": 1,
   "metadata": {},
   "outputs": [
    {
     "name": "stdout",
     "output_type": "stream",
     "text": [
      "this is b\n",
      "i am fun b\n"
     ]
    }
   ],
   "source": [
    "import os\n",
    "import sys\n",
    "\n",
    "class A(object):\n",
    "    def __init__(self,):\n",
    "        print(\"this is a\")\n",
    "        pass\n",
    "    def a(self):\n",
    "        return self.b()\n",
    "    def b(self):\n",
    "        raise NotImplementedError\n",
    "        \n",
    "class B(A):\n",
    "    def __init__(self,):\n",
    "        print(\"this is b\")\n",
    "        pass\n",
    "    def b(self):\n",
    "        print(\"i am fun b\")\n",
    "\n",
    "b = B()\n",
    "b.a()"
   ]
  },
  {
   "cell_type": "code",
   "execution_count": null,
   "metadata": {},
   "outputs": [],
   "source": []
  }
 ],
 "metadata": {
  "kernelspec": {
   "display_name": "Python 3",
   "language": "python",
   "name": "python3"
  },
  "language_info": {
   "codemirror_mode": {
    "name": "ipython",
    "version": 3
   },
   "file_extension": ".py",
   "mimetype": "text/x-python",
   "name": "python",
   "nbconvert_exporter": "python",
   "pygments_lexer": "ipython3",
   "version": "3.6.8"
  }
 },
 "nbformat": 4,
 "nbformat_minor": 2
}
