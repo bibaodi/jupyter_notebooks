{
 "cells": [
  {
   "cell_type": "markdown",
   "metadata": {},
   "source": [
    "*20191226.*\n",
    "- PW数据保存在自定义Tag JSPWResult (4A53, 0x1090)，类型是float，可多个。\n",
    "- 目前是7个，顺序是 PSV\\EDV\\TAMAX\\TAMEAN\\HR\\cycles\\D,HR和cycles保存为float，但显示应该是整数\n",
    "- 其他RI/PI等参数，都是这个7个参数的因变量，你参考PWResult.java里面公式自行计算出来，一般显示1-2位小数就行。"
   ]
  },
  {
   "cell_type": "code",
   "execution_count": 37,
   "metadata": {},
   "outputs": [],
   "source": [
    "import pydicom"
   ]
  },
  {
   "cell_type": "code",
   "execution_count": 41,
   "metadata": {},
   "outputs": [],
   "source": [
    "\n",
    "def read_pw_info_from_dicom(dicom_file):\n",
    "    ds = pydicom.dcmread(dicom_file)\n",
    "    pw_tag = pydicom.tag.Tag(0x4A53, 0x1090)\n",
    "    if pw_tag not in ds:\n",
    "        print(\"has no pwtag\")\n",
    "\n",
    "    pw_info = ds[pw_tag]\n",
    "    #type(pw_info)\n",
    "    #print(pw_info)\n",
    "    pw_names = ['PSV', 'EDV', 'TAMAX', 'TAMEAN', 'HR', 'cycles', 'D']\n",
    "    values_dict = {'PSV': 0.0, 'EDV': 0.0, 'TAMAX': 0.0, 'TAMEAN': 0.0, 'HR': 0, 'cycles':0, 'D':0.0}\n",
    "    if not isinstance(pw_info.value, list):\n",
    "        print('do not have pw info')\n",
    "\n",
    "    for i, v in enumerate(pw_info.value):\n",
    "        pw_name = pw_names[i]\n",
    "        pw_value = int(v) if pw_name in ['HR', 'cycles'] else v\n",
    "        values_dict[pw_name] = pw_value\n",
    "    print(f\"pw: {values_dict}\")\n",
    "    #print(pw_info.VR, pw_info.value, pw_info.tag, pw_info.showVR)\n",
    "    type(pw_info)\n",
    "    #dir(pw_info)\n",
    "    return values_dict"
   ]
  },
  {
   "cell_type": "code",
   "execution_count": 42,
   "metadata": {},
   "outputs": [
    {
     "name": "stdout",
     "output_type": "stream",
     "text": [
      "pw: {'PSV': 87.86862182617188, 'EDV': 20.813629150390625, 'TAMAX': 34.84579086303711, 'TAMEAN': 19.26972198486328, 'HR': 77, 'cycles': 4, 'D': 0.7585492134094238}\n"
     ]
    }
   ],
   "source": [
    "dicom_file=r\"D:\\Subjects\\webuis\\pw-1.3.6.1.4.1.52026.62607213.367.1.1.1.dcm\"\n",
    "info = read_pw_info_from_dicom(dicom_file)"
   ]
  },
  {
   "cell_type": "code",
   "execution_count": 11,
   "metadata": {},
   "outputs": [
    {
     "data": {
      "text/plain": [
       "(4a53, 1090) Private tag data                    FL: [87.86862182617188, 20.813629150390625, 34.84579086303711, 19.26972198486328, 77.57575988769531, 4.0, 0.7585492134094238]"
      ]
     },
     "execution_count": 11,
     "metadata": {},
     "output_type": "execute_result"
    }
   ],
   "source": [
    "ds[0x4A53, 0x1090]"
   ]
  },
  {
   "cell_type": "code",
   "execution_count": null,
   "metadata": {},
   "outputs": [],
   "source": []
  }
 ],
 "metadata": {
  "kernelspec": {
   "display_name": "Python 3",
   "language": "python",
   "name": "python3"
  },
  "language_info": {
   "codemirror_mode": {
    "name": "ipython",
    "version": 3
   },
   "file_extension": ".py",
   "mimetype": "text/x-python",
   "name": "python",
   "nbconvert_exporter": "python",
   "pygments_lexer": "ipython3",
   "version": "3.6.9"
  }
 },
 "nbformat": 4,
 "nbformat_minor": 2
}
