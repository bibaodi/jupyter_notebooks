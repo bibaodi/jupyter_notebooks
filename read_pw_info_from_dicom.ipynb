{
 "cells": [
  {
   "cell_type": "markdown",
   "metadata": {},
   "source": [
    "*20191226.*\n",
    "- PW数据保存在自定义Tag JSPWResult (4A53, 0x1090)，类型是float，可多个。\n",
    "- 目前是7个，顺序是 PSV\\EDV\\TAMAX\\TAMEAN\\HR\\cycles\\D,HR和cycles保存为float，但显示应该是整数\n",
    "- 其他RI/PI等参数，都是这个7个参数的因变量，你参考PWResult.java里面公式自行计算出来，一般显示1-2位小数就行。"
   ]
  },
  {
   "cell_type": "code",
   "execution_count": 2,
   "metadata": {},
   "outputs": [],
   "source": [
    "import pydicom"
   ]
  },
  {
   "cell_type": "code",
   "execution_count": 26,
   "metadata": {},
   "outputs": [],
   "source": [
    "def read_ImageType_value(dicom_file):\n",
    "    ds = pydicom.dcmread(dicom_file)\n",
    "    image_type_tag = pydicom.tag.Tag(0x008, 0x008)\n",
    "    image_type_value = ds[image_type_tag].value\n",
    "    image_type = int(image_type_value[-1], 16)\n",
    "    is_pw = False\n",
    "    if image_type & 0x0008:\n",
    "        is_pw = True\n",
    "        print(f\"{dicom_file} have pw tag!\")\n",
    "    return is_pw"
   ]
  },
  {
   "cell_type": "code",
   "execution_count": 22,
   "metadata": {},
   "outputs": [],
   "source": [
    "\n",
    "def read_pw_info_from_dicom(dicom_file):\n",
    "    ds = pydicom.dcmread(dicom_file)\n",
    "    pw_tag = pydicom.tag.Tag(0x4A53, 0x1090)\n",
    "    if pw_tag not in ds:\n",
    "        print(\"has no pwtag\")\n",
    "\n",
    "    pw_info = ds[pw_tag]\n",
    "    #type(pw_info)\n",
    "    #print(pw_info)\n",
    "    pw_names = ['PSV', 'EDV', 'TAMAX', 'TAMEAN', 'HR', 'cycles', 'D']\n",
    "    values_dict = {'PSV': 0.0, 'EDV': 0.0, 'TAMAX': 0.0, 'TAMEAN': 0.0, 'HR': 0, 'cycles':0, 'D':0.0}\n",
    "    if not isinstance(pw_info.value, list):\n",
    "        print('do not have pw info')\n",
    "\n",
    "    for i, v in enumerate(pw_info.value):\n",
    "        pw_name = pw_names[i]\n",
    "        pw_value = int(v) if pw_name in ['HR', 'cycles'] else v\n",
    "        values_dict[pw_name] = pw_value\n",
    "    print(f\"pw: {values_dict}\")\n",
    "    #print(pw_info.VR, pw_info.value, pw_info.tag, pw_info.showVR)\n",
    "    type(pw_info)\n",
    "    #dir(pw_info)\n",
    "    return values_dict"
   ]
  },
  {
   "cell_type": "code",
   "execution_count": 23,
   "metadata": {},
   "outputs": [
    {
     "name": "stdout",
     "output_type": "stream",
     "text": [
      "pw: {'PSV': 85.41410827636719, 'EDV': 19.248249053955078, 'TAMAX': 31.812591552734375, 'TAMEAN': 19.532930374145508, 'HR': 79, 'cycles': 4, 'D': 0.7042959332466125}\n"
     ]
    }
   ],
   "source": [
    "dicom_file=r\"D:\\Subjects\\webuis\\pw-1.3.6.1.4.1.52026.62607213.367.1.1.1.dcm\"\n",
    "dicom_file2=r\"D:\\Subjects\\webuis\\pw-1.3.6.1.4.1.52026.62607213.367.2.1.1.dcm\"\n",
    "dicom_file9=r\"D:\\Subjects\\webuis\\pw-009-1.3.6.1.4.1.52026.62607213.367.14.1.1.dcm\"\n",
    "info = read_pw_info_from_dicom(dicom_file2)"
   ]
  },
  {
   "cell_type": "code",
   "execution_count": 7,
   "metadata": {},
   "outputs": [
    {
     "ename": "NameError",
     "evalue": "name 'ds' is not defined",
     "output_type": "error",
     "traceback": [
      "\u001b[1;31m---------------------------------------------------------------------------\u001b[0m",
      "\u001b[1;31mNameError\u001b[0m                                 Traceback (most recent call last)",
      "\u001b[1;32m<ipython-input-7-68e5c002e573>\u001b[0m in \u001b[0;36m<module>\u001b[1;34m\u001b[0m\n\u001b[1;32m----> 1\u001b[1;33m \u001b[0mds\u001b[0m\u001b[1;33m[\u001b[0m\u001b[1;36m0x4A53\u001b[0m\u001b[1;33m,\u001b[0m \u001b[1;36m0x1090\u001b[0m\u001b[1;33m]\u001b[0m\u001b[1;33m\u001b[0m\u001b[1;33m\u001b[0m\u001b[0m\n\u001b[0m",
      "\u001b[1;31mNameError\u001b[0m: name 'ds' is not defined"
     ]
    }
   ],
   "source": [
    "ds[0x4A53, 0x1090]"
   ]
  },
  {
   "cell_type": "code",
   "execution_count": 8,
   "metadata": {},
   "outputs": [],
   "source": [
    "import tempfile"
   ]
  },
  {
   "cell_type": "code",
   "execution_count": 27,
   "metadata": {},
   "outputs": [
    {
     "name": "stdout",
     "output_type": "stream",
     "text": [
      "D:\\Subjects\\webuis\\pw-009-1.3.6.1.4.1.52026.62607213.367.14.1.1.dcm have pw tag!\n",
      "pw: {'PSV': 82.6551742553711, 'EDV': 14.36601734161377, 'TAMAX': 29.4754638671875, 'TAMEAN': 18.27478790283203, 'HR': 90, 'cycles': 4, 'D': 0.838397204875946}\n"
     ]
    }
   ],
   "source": [
    "fs = [dicom_file, dicom_file2, dicom_file9]\n",
    "for f in fs:\n",
    "    if read_ImageType_value(f):\n",
    "        read_pw_info_from_dicom(f)"
   ]
  },
  {
   "cell_type": "code",
   "execution_count": 50,
   "metadata": {},
   "outputs": [
    {
     "name": "stdout",
     "output_type": "stream",
     "text": [
      "b'C:\\\\Users\\\\admin\\\\AppData\\\\Local\\\\Temp'\n"
     ]
    }
   ],
   "source": [
    "print(tempfile.gettempdirb())"
   ]
  },
  {
   "cell_type": "code",
   "execution_count": 20,
   "metadata": {},
   "outputs": [
    {
     "name": "stdout",
     "output_type": "stream",
     "text": [
      "16\n"
     ]
    }
   ],
   "source": [
    "s='010'\n",
    "a=int(s, 16)\n",
    "print(a)"
   ]
  },
  {
   "cell_type": "code",
   "execution_count": null,
   "metadata": {},
   "outputs": [],
   "source": []
  }
 ],
 "metadata": {
  "kernelspec": {
   "display_name": "Python 3",
   "language": "python",
   "name": "python3"
  },
  "language_info": {
   "codemirror_mode": {
    "name": "ipython",
    "version": 3
   },
   "file_extension": ".py",
   "mimetype": "text/x-python",
   "name": "python",
   "nbconvert_exporter": "python",
   "pygments_lexer": "ipython3",
   "version": "3.6.8"
  }
 },
 "nbformat": 4,
 "nbformat_minor": 2
}
