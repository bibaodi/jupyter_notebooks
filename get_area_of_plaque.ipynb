{
 "cells": [
  {
   "cell_type": "markdown",
   "metadata": {},
   "source": [
    "### 获取斑块的面积\n",
    "为了能够自动获取标注中很小的斑块, 自动统计并计算斑块的面积"
   ]
  },
  {
   "cell_type": "code",
   "execution_count": 177,
   "metadata": {},
   "outputs": [],
   "source": [
    "import os\n",
    "import json\n",
    "import labelme\n",
    "import cv2\n",
    "import numpy as np\n",
    "import PIL.Image\n",
    "import PIL.ImageDraw\n",
    "\n",
    "\n",
    "def shape_to_mask(img_size:tuple, points, line_width=1, point_size=1):\n",
    "    \"\"\"\n",
    "        根据多边形的点在空白图中画出多边形, 填充像素为127的灰度. 返回一个bool值的矩阵, 矩阵中处多边形覆盖区域外全部为False\n",
    "        input:\n",
    "            img_size: original image size(width*heigth)\n",
    "            points: all points of the polygon\n",
    "        return: image mask (ndarray)\n",
    "    \"\"\"\n",
    "    img_mask = np.zeros(img_size[:2], dtype=np.uint8)\n",
    "    img_mask = PIL.Image.fromarray(img_mask)\n",
    "    draw = PIL.ImageDraw.Draw(img_mask)\n",
    "    xy = [tuple(point) for point in points]\n",
    "    if len(xy) < 3:\n",
    "        errmsg = 'Polygon must have points more than 2'\n",
    "        raise ValueError(errmsg)\n",
    "    draw.polygon(xy=xy, outline=128, fill=128)\n",
    "    img_mask = np.array(img_mask, dtype=bool)\n",
    "    return img_mask\n",
    "\n",
    "\n",
    "def get_polygon_area(polygon_array):\n",
    "    \"\"\"\n",
    "        根据polygon的mask得到这个polygon的像素数量, 用来代表面积\n",
    "        input:\n",
    "            polygon_array: 在空白画布上画出polygon后转化为bool的矩阵\n",
    "        return:\n",
    "            (pixel_count, pixel_percentage)\n",
    "    \"\"\"\n",
    "    if polygon_array.dtype != np.bool:\n",
    "        errmsg = 'Polygon array must in bool dtype'\n",
    "        raise ValueError(errmsg)\n",
    "    pixel_count = np.count_nonzero(polygon_array)\n",
    "    pixel_percentage = pixel_count / polygon_array.size\n",
    "    return (pixel_count, pixel_percentage)\n",
    "\n",
    "\n",
    "def get_polygon_pixel_mean_value(img_array, polygon_array):\n",
    "    \"\"\"\n",
    "        根据polygon的mask获取polygon的所有像素的灰度值的求和与均值\n",
    "        input:\n",
    "            img_array: 原始的图片的灰度值的矩阵 shape=(width, heigth)\n",
    "            polygon_array: polygon的mask的矩阵, 值为bool.\n",
    "        return:\n",
    "            (polygon_pixel_mean, polygon_pixel_sum): polygon覆盖区域像素灰度值的求和与均值\n",
    "    \"\"\"\n",
    "    if polygon_array.dtype != np.bool:\n",
    "        errmsg = 'Polygon array must in bool dtype'\n",
    "        raise ValueError(errmsg)\n",
    "    if img_array.dtype != np.uint8:\n",
    "        errmsg = 'image array must in uint8 dtype'\n",
    "        raise ValueError(errmsg)\n",
    "    \n",
    "    polygon_img_array = img_array.copy()\n",
    "    polygon_img_array[np.logical_not(polygon_array)] = 0\n",
    "\n",
    "    polygon_pixel_sum = np.sum(polygon_img_array)\n",
    "    #polygon_pixel_mean = polygon_pixel_sum / np.count_nonzero(polygon_img_array)\n",
    "    polygon_pixel_mean = (polygon_pixel_sum ) / (np.count_nonzero(polygon_img_array) + 1)\n",
    "\n",
    "    return (polygon_pixel_mean, polygon_pixel_sum)\n",
    "\n",
    "\n",
    "def crop_sub_mask(polygon_origin, polygon_sub):\n",
    "    \"\"\"\n",
    "        将origin的mask中剪掉sub的mask. 适用于血管中有大斑块的情况, 这样会导致血管的像素灰度值均值受到影响. \n",
    "        要求两个矩阵shape相等\n",
    "        input:\n",
    "            polygon_origin: 大的polygon的mask的矩阵, 原始的矩阵\n",
    "            polygon_sub: 需要被剪掉的部分的矩阵\n",
    "        return:\n",
    "            polygon_new: 将polygon_origin中polygon_sub为True的部分改为False的矩阵\n",
    "    \"\"\"\n",
    "    for array in (polygon_origin, polygon_sub):\n",
    "        if array.dtype != np.bool:\n",
    "            errmsg = 'Polygon array must in bool dtype'\n",
    "            raise ValueError(errmsg)\n",
    "            \n",
    "    polygon_new = polygon_origin.copy()\n",
    "    polygon_new[polygon_sub] = False\n",
    "\n",
    "    return polygon_new\n"
   ]
  },
  {
   "cell_type": "code",
   "execution_count": 178,
   "metadata": {},
   "outputs": [
    {
     "name": "stdout",
     "output_type": "stream",
     "text": [
      "F:\\workspace\\for_demos\\07_Plaque_13_YY_02_frms\\frm-0001.png F:\\workspace\\for_demos\\07_Plaque_13_YY_02_frms\\frm-0001.json [{'label': 'CA', 'line_color': None, 'fill_color': None, 'points': [[753.0, 307.0], [819.0, 291.0], [877.0, 295.0], [945.0, 314.0], [976.0, 382.0], [976.0, 443.0], [953.0, 482.0], [913.0, 498.0], [791.0, 518.0], [691.0, 488.0], [674.0, 398.0], [704.0, 333.0]]}, {'label': 'JV', 'line_color': None, 'fill_color': None, 'points': [[1027, 404], [1026, 422], [1045, 423], [1049, 404]]}, {'label': '不确定区域:UncertainZone', 'line_color': None, 'fill_color': None, 'points': [[377.0, 0.0], [392.0, 1004.0], [1339, 498]]}, {'label': 'Plaque', 'line_color': None, 'fill_color': None, 'points': [[772.0, 414.0], [806.0, 426.0], [852.0, 453.0], [898.0, 458.0], [927.0, 467.0], [862.0, 478.0], [788.0, 477.0], [772.0, 452.0]]}]\n"
     ]
    }
   ],
   "source": [
    "import os\n",
    "import json\n",
    "import labelme\n",
    "import cv2\n",
    "\n",
    "root_dir = r\"F:\\workspace\\for_demos\\07_Plaque_13_YY_02_frms\"\n",
    "label_dict = {\n",
    "    '_background_': 0,\n",
    "    'Plaque': 1,\n",
    "    'CA': 2,\n",
    "    'JV': 3,\n",
    "}\n",
    "img_file = os.path.join(root_dir, \"frm-0001.png\")\n",
    "json_file = img_file.split('.png')[0]+\".json\"\n",
    "\n",
    "img_data = cv2.imread(img_file, cv2.IMREAD_GRAYSCALE)\n",
    "with open(json_file, 'r') as f:\n",
    "    json_data = json.load(f)\n",
    "\n",
    "print(img_file, json_file, json_data['shapes'])"
   ]
  },
  {
   "cell_type": "code",
   "execution_count": 179,
   "metadata": {},
   "outputs": [
    {
     "name": "stdout",
     "output_type": "stream",
     "text": [
      "{'label': 'CA', 'line_color': None, 'fill_color': None, 'points': [[753.0, 307.0], [819.0, 291.0], [877.0, 295.0], [945.0, 314.0], [976.0, 382.0], [976.0, 443.0], [953.0, 482.0], [913.0, 498.0], [791.0, 518.0], [691.0, 488.0], [674.0, 398.0], [704.0, 333.0]]} {'label': '不确定区域:UncertainZone', 'line_color': None, 'fill_color': None, 'points': [[377.0, 0.0], [392.0, 1004.0], [1339, 498]]}\n",
      "0: (480192, 0.279368507279294) (37.40620957309185, 809620)\n",
      "delta: (0, 0.0) (0.0, 0)\n"
     ]
    }
   ],
   "source": [
    "print(json_data['shapes'][0], json_data['shapes'][2])\n",
    "msk0 = shape_to_mask(img_data.shape, json_data['shapes'][0]['points'])\n",
    "msk1 = shape_to_mask(img_data.shape, json_data['shapes'][2]['points'])\n",
    "msk = crop_sub_mask(msk0, msk1)\n",
    "pixels = get_polygon_area(msk1)\n",
    "grays = get_polygon_pixel_mean_value(img_data, msk0)\n",
    "print(\"0:\", pixels, grays)\n",
    "pixels = get_polygon_area(msk)\n",
    "grays = get_polygon_pixel_mean_value(img_data, msk)\n",
    "print(\"delta:\", pixels, grays)"
   ]
  },
  {
   "cell_type": "code",
   "execution_count": 127,
   "metadata": {},
   "outputs": [],
   "source": [
    "import math\n",
    "from PIL import ImageFont\n",
    "import PIL.ImageFilter, PIL.Image, PIL.ImageDraw\n",
    "import numpy as np\n",
    "import PIL.Image\n",
    "import PIL.ImageDraw\n",
    "import random\n",
    "\n",
    "def rndChar():\n",
    "    return chr(random.randint(65, 90))\n",
    "\n",
    "def rndColor2():\n",
    "    return (random.randint(64, 255), random.randint(64, 255), random.randint(64, 255))\n",
    "\n",
    "width = 60 * 4\n",
    "height = 60\n",
    "word_size = 50 #文字大小\n",
    "word_css  = r\"C:\\Windows\\Fonts\\SIMYOU.TTF\"\n",
    "\n",
    "def shape_to_mask(img_shape, points, shape_type=None,\n",
    "                  line_width=10, point_size=5):\n",
    "    mask = np.zeros(img_shape[:2], dtype=np.uint8)\n",
    "    mask = PIL.Image.fromarray(mask)\n",
    "    draw = PIL.ImageDraw.Draw(mask)\n",
    "    font = ImageFont.truetype(word_css,word_size)\n",
    "    xy = [tuple(point) for point in points]\n",
    "    assert len(xy) > 2, 'Polygon must have points more than 2'\n",
    "    print(f\"points: {xy}\")\n",
    "    draw.polygon(xy=xy, outline=128, fill=1)\n",
    "    #for t in range(4):\n",
    "    #    draw.text((60 * t + 10, 10), rndChar(), fill=rndColor2())\n",
    "    #draw.line((0, 0) + (100, 100), fill=128)\n",
    "    #draw.line((0, img_shape[1], img_shape[0], 0), fill=128)\n",
    "    mask = np.array(mask, dtype=bool)\n",
    "    #mask.show()\n",
    "    #mask = np.array(mask, dtype=np.uint8)\n",
    "    return mask\n",
    "\n",
    "def shapes_to_label(img_shape, shapes, label_name_to_value, type='class'):\n",
    "    assert type in ['class', 'instance']\n",
    "\n",
    "    cls = np.zeros(img_shape[:2], dtype=np.int32)\n",
    "    if type == 'instance':\n",
    "        ins = np.zeros(img_shape[:2], dtype=np.int32)\n",
    "        instance_names = ['_background_']\n",
    "    for shape in shapes:\n",
    "        points = shape['points']\n",
    "        label = shape['label']\n",
    "        \n",
    "        shape_type = shape.get('shape_type', None)\n",
    "        if type == 'class':\n",
    "            cls_name = label\n",
    "        elif type == 'instance':\n",
    "            cls_name = label.split('-')[0]\n",
    "            if label not in instance_names:\n",
    "                instance_names.append(label)\n",
    "            ins_id = instance_names.index(label)\n",
    "        cls_id = label_name_to_value[cls_name]\n",
    "        print(f\"label:{label}, idx={cls_id}\")\n",
    "        mask = shape_to_mask(img_shape[:2], points, shape_type)\n",
    "        cls[mask] = cls_id\n",
    "        print(f\"cls_id={cls_id}, count={np.count_nonzero(cls==cls_id)}\")\n",
    "        if type == 'instance':\n",
    "            ins[mask] = ins_id\n",
    "\n",
    "    if type == 'instance':\n",
    "        return cls, ins\n",
    "    return cls"
   ]
  },
  {
   "cell_type": "code",
   "execution_count": 128,
   "metadata": {},
   "outputs": [
    {
     "name": "stdout",
     "output_type": "stream",
     "text": [
      "Help on function shapes_to_label in module labelme.utils.shape:\n",
      "\n",
      "shapes_to_label(img_shape, shapes, label_name_to_value, type='class')\n",
      "\n",
      "Help on function shape_to_mask in module labelme.utils.shape:\n",
      "\n",
      "shape_to_mask(img_shape, points, shape_type=None, line_width=10, point_size=5)\n",
      "\n"
     ]
    }
   ],
   "source": [
    "help(labelme.utils.shapes_to_label)\n",
    "help(labelme.utils.shape_to_mask)"
   ]
  },
  {
   "cell_type": "code",
   "execution_count": 139,
   "metadata": {},
   "outputs": [
    {
     "name": "stdout",
     "output_type": "stream",
     "text": [
      "label:CA, idx=2\n",
      "points: [(753.0, 307.0), (819.0, 291.0), (877.0, 295.0), (945.0, 314.0), (976.0, 382.0), (976.0, 443.0), (953.0, 482.0), (913.0, 498.0), (791.0, 518.0), (691.0, 488.0), (674.0, 398.0), (704.0, 333.0)]\n",
      "cls_id=2, count=55587\n",
      "label:Plaque, idx=1\n",
      "points: [(772.0, 414.0), (806.0, 426.0), (852.0, 453.0), (898.0, 458.0), (927.0, 467.0), (862.0, 478.0), (788.0, 477.0), (772.0, 452.0)]\n",
      "cls_id=1, count=4795\n",
      "image data mean:79.13080260303687\n",
      "<class 'numpy.ndarray'> (1004, 1712) False\n",
      "plaque_mean:79.13080260303687\n"
     ]
    }
   ],
   "source": [
    "\n",
    "#polygons_masks = labelme.utils.shapes_to_label(img_data.shape, json_data['shapes'], label_dict)\n",
    "polygons_masks = shapes_to_label(img_data.shape, json_data['shapes'], label_dict)\n",
    "#cv2.imshow(\"img\", (polygons_masks*128))\n",
    "#cv2.waitKey(0)\n",
    "#cv2.destroyAllWindows()\n",
    "\n",
    "print(f\"image data mean:{np.sum(img_data)/np.count_nonzero(img_data)}\")\n",
    "\n",
    "mask_plaque_bool = polygons_masks==1\n",
    "print(type(mask_plaque_bool), mask_plaque_bool.shape,mask_plaque_bool[0][0])\n",
    "img_data[np.logical_not(mask_plaque_bool)]=0\n",
    "plaque_mean = np.sum(img_data)/np.count_nonzero(img_data)\n",
    "print(f\"plaque_mean:{plaque_mean}\")"
   ]
  },
  {
   "cell_type": "code",
   "execution_count": 119,
   "metadata": {},
   "outputs": [
    {
     "name": "stdout",
     "output_type": "stream",
     "text": [
      "points: [(772.0, 414.0), (806.0, 426.0), (852.0, 453.0), (898.0, 458.0), (927.0, 467.0), (862.0, 478.0), (788.0, 477.0), (772.0, 452.0)]\n",
      "<class 'numpy.ndarray'> (1004, 1712)\n"
     ]
    },
    {
     "ename": "NameError",
     "evalue": "name 'cls_id' is not defined",
     "output_type": "error",
     "traceback": [
      "\u001b[1;31m---------------------------------------------------------------------------\u001b[0m",
      "\u001b[1;31mNameError\u001b[0m                                 Traceback (most recent call last)",
      "\u001b[1;32m<ipython-input-119-d8555e1ca3e6>\u001b[0m in \u001b[0;36m<module>\u001b[1;34m\u001b[0m\n\u001b[0;32m      4\u001b[0m     \u001b[0mmask\u001b[0m \u001b[1;33m=\u001b[0m \u001b[0mshape_to_mask\u001b[0m\u001b[1;33m(\u001b[0m\u001b[0mimg_data\u001b[0m\u001b[1;33m.\u001b[0m\u001b[0mshape\u001b[0m\u001b[1;33m[\u001b[0m\u001b[1;33m:\u001b[0m\u001b[1;36m2\u001b[0m\u001b[1;33m]\u001b[0m\u001b[1;33m,\u001b[0m \u001b[0mpoints\u001b[0m\u001b[1;33m,\u001b[0m \u001b[1;32mNone\u001b[0m\u001b[1;33m)\u001b[0m\u001b[1;33m\u001b[0m\u001b[1;33m\u001b[0m\u001b[0m\n\u001b[0;32m      5\u001b[0m     \u001b[0mprint\u001b[0m\u001b[1;33m(\u001b[0m\u001b[0mtype\u001b[0m\u001b[1;33m(\u001b[0m\u001b[0mmask\u001b[0m\u001b[1;33m)\u001b[0m\u001b[1;33m,\u001b[0m \u001b[0mmask\u001b[0m\u001b[1;33m.\u001b[0m\u001b[0mshape\u001b[0m\u001b[1;33m)\u001b[0m\u001b[1;33m\u001b[0m\u001b[1;33m\u001b[0m\u001b[0m\n\u001b[1;32m----> 6\u001b[1;33m     \u001b[0mprint\u001b[0m\u001b[1;33m(\u001b[0m\u001b[1;34mf\"={cls_id}, count={np.count_nonzero(cls==cls_id)}\"\u001b[0m\u001b[1;33m)\u001b[0m\u001b[1;33m\u001b[0m\u001b[1;33m\u001b[0m\u001b[0m\n\u001b[0m\u001b[0;32m      7\u001b[0m \u001b[1;33m\u001b[0m\u001b[0m\n\u001b[0;32m      8\u001b[0m     \u001b[0mcv2\u001b[0m\u001b[1;33m.\u001b[0m\u001b[0mimshow\u001b[0m\u001b[1;33m(\u001b[0m\u001b[1;34m\"img\"\u001b[0m\u001b[1;33m,\u001b[0m \u001b[0mmask\u001b[0m\u001b[1;33m)\u001b[0m\u001b[1;33m\u001b[0m\u001b[1;33m\u001b[0m\u001b[0m\n",
      "\u001b[1;31mNameError\u001b[0m: name 'cls_id' is not defined"
     ]
    }
   ],
   "source": [
    "for shape in json_data['shapes']:\n",
    "    points = shape['points']\n",
    "    #mask = labelme.utils.shape_to_mask(img_data.shape[:2], points, None)\n",
    "    mask = shape_to_mask(img_data.shape[:2], points, None)\n",
    "    print(type(mask), mask.shape)\n",
    "    print(f\"={cls_id}, count={np.count_nonzero(cls==cls_id)}\")\n",
    "    \n",
    "    cv2.imshow(\"img\", mask)\n",
    "    cv2.waitKey(0)\n",
    "    cv2.destroyAllWindows()"
   ]
  },
  {
   "cell_type": "code",
   "execution_count": 120,
   "metadata": {},
   "outputs": [
    {
     "name": "stdout",
     "output_type": "stream",
     "text": [
      "label:Plaque, idx=1\n",
      "points: [(772.0, 414.0), (806.0, 426.0), (852.0, 453.0), (898.0, 458.0), (927.0, 467.0), (862.0, 478.0), (788.0, 477.0), (772.0, 452.0)]\n",
      "cls_id=1, count=5900\n",
      "label:CA, idx=2\n",
      "points: [(753.0, 307.0), (819.0, 291.0), (877.0, 295.0), (945.0, 314.0), (976.0, 382.0), (976.0, 443.0), (953.0, 482.0), (913.0, 498.0), (791.0, 518.0), (691.0, 488.0), (674.0, 398.0), (704.0, 333.0)]\n",
      "cls_id=2, count=56488\n"
     ]
    }
   ],
   "source": [
    "\n"
   ]
  },
  {
   "cell_type": "code",
   "execution_count": 100,
   "metadata": {},
   "outputs": [
    {
     "data": {
      "text/plain": [
       "numpy.ndarray"
      ]
     },
     "execution_count": 100,
     "metadata": {},
     "output_type": "execute_result"
    }
   ],
   "source": [
    "type(polygons_masks)"
   ]
  },
  {
   "cell_type": "code",
   "execution_count": 101,
   "metadata": {},
   "outputs": [
    {
     "name": "stdout",
     "output_type": "stream",
     "text": [
      "(1004, 1712)\n",
      "0\n",
      "5136\n"
     ]
    }
   ],
   "source": [
    "print(polygons_masks.shape)\n",
    "plaque = np.argwhere(polygons_masks==1)\n",
    "ca = np.argwhere(polygons_masks==2)\n",
    "print(np.count_nonzero(polygons_masks==1))\n",
    "print(np.count_nonzero(polygons_masks==2))"
   ]
  },
  {
   "cell_type": "code",
   "execution_count": null,
   "metadata": {},
   "outputs": [],
   "source": []
  }
 ],
 "metadata": {
  "kernelspec": {
   "display_name": "Python 3",
   "language": "python",
   "name": "python3"
  },
  "language_info": {
   "codemirror_mode": {
    "name": "ipython",
    "version": 3
   },
   "file_extension": ".py",
   "mimetype": "text/x-python",
   "name": "python",
   "nbconvert_exporter": "python",
   "pygments_lexer": "ipython3",
   "version": "3.6.8"
  }
 },
 "nbformat": 4,
 "nbformat_minor": 2
}
