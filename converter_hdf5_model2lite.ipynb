{
 "cells": [
  {
   "cell_type": "markdown",
   "metadata": {},
   "source": [
    "将hdf5的模型转化为tflite格式"
   ]
  },
  {
   "cell_type": "code",
   "execution_count": 1,
   "metadata": {},
   "outputs": [],
   "source": [
    "import tensorflow as tf"
   ]
  },
  {
   "cell_type": "code",
   "execution_count": 2,
   "metadata": {},
   "outputs": [
    {
     "ename": "AttributeError",
     "evalue": "'str' object has no attribute 'call'",
     "output_type": "error",
     "traceback": [
      "\u001b[1;31m---------------------------------------------------------------------------\u001b[0m",
      "\u001b[1;31mAttributeError\u001b[0m                            Traceback (most recent call last)",
      "\u001b[1;32m<ipython-input-2-ee9b6276e4b6>\u001b[0m in \u001b[0;36m<module>\u001b[1;34m\u001b[0m\n\u001b[0;32m      1\u001b[0m \u001b[0mh5\u001b[0m \u001b[1;33m=\u001b[0m \u001b[1;34mr\"F:\\workspace\\for_demos\\updateTo2.0\\out_dir\\linknet18_32_0.5_multi_96\\linknet_model.h5\"\u001b[0m\u001b[1;33m\u001b[0m\u001b[0m\n\u001b[1;32m----> 2\u001b[1;33m \u001b[0mconverter\u001b[0m \u001b[1;33m=\u001b[0m \u001b[0mtf\u001b[0m\u001b[1;33m.\u001b[0m\u001b[0mlite\u001b[0m\u001b[1;33m.\u001b[0m\u001b[0mTFLiteConverter\u001b[0m\u001b[1;33m.\u001b[0m\u001b[0mfrom_keras_model\u001b[0m\u001b[1;33m(\u001b[0m\u001b[0mh5\u001b[0m\u001b[1;33m)\u001b[0m\u001b[1;33m\u001b[0m\u001b[0m\n\u001b[0m\u001b[0;32m      3\u001b[0m \u001b[0mtflite_model\u001b[0m \u001b[1;33m=\u001b[0m \u001b[0mconverter\u001b[0m\u001b[1;33m.\u001b[0m\u001b[0mconvert\u001b[0m\u001b[1;33m(\u001b[0m\u001b[1;33m)\u001b[0m\u001b[1;33m\u001b[0m\u001b[0m\n",
      "\u001b[1;32mF:\\ProgramData\\Anaconda3\\envs\\Py3.6\\lib\\site-packages\\tensorflow_core\\lite\\python\\lite.py\u001b[0m in \u001b[0;36mfrom_keras_model\u001b[1;34m(cls, model)\u001b[0m\n\u001b[0;32m    380\u001b[0m       \u001b[0mTFLiteConverter\u001b[0m \u001b[0mobject\u001b[0m\u001b[1;33m.\u001b[0m\u001b[1;33m\u001b[0m\u001b[0m\n\u001b[0;32m    381\u001b[0m     \"\"\"\n\u001b[1;32m--> 382\u001b[1;33m     \u001b[0mfunc\u001b[0m \u001b[1;33m=\u001b[0m \u001b[0m_saving_utils\u001b[0m\u001b[1;33m.\u001b[0m\u001b[0mtrace_model_call\u001b[0m\u001b[1;33m(\u001b[0m\u001b[0mmodel\u001b[0m\u001b[1;33m)\u001b[0m\u001b[1;33m\u001b[0m\u001b[0m\n\u001b[0m\u001b[0;32m    383\u001b[0m     \u001b[0mconcrete_func\u001b[0m \u001b[1;33m=\u001b[0m \u001b[0mfunc\u001b[0m\u001b[1;33m.\u001b[0m\u001b[0mget_concrete_function\u001b[0m\u001b[1;33m(\u001b[0m\u001b[1;33m)\u001b[0m\u001b[1;33m\u001b[0m\u001b[0m\n\u001b[0;32m    384\u001b[0m     \u001b[1;32mreturn\u001b[0m \u001b[0mcls\u001b[0m\u001b[1;33m(\u001b[0m\u001b[1;33m[\u001b[0m\u001b[0mconcrete_func\u001b[0m\u001b[1;33m]\u001b[0m\u001b[1;33m)\u001b[0m\u001b[1;33m\u001b[0m\u001b[0m\n",
      "\u001b[1;32mF:\\ProgramData\\Anaconda3\\envs\\Py3.6\\lib\\site-packages\\tensorflow_core\\python\\keras\\saving\\saving_utils.py\u001b[0m in \u001b[0;36mtrace_model_call\u001b[1;34m(model, input_signature)\u001b[0m\n\u001b[0;32m    121\u001b[0m   \"\"\"\n\u001b[0;32m    122\u001b[0m   \u001b[1;32mif\u001b[0m \u001b[0minput_signature\u001b[0m \u001b[1;32mis\u001b[0m \u001b[1;32mNone\u001b[0m\u001b[1;33m:\u001b[0m\u001b[1;33m\u001b[0m\u001b[0m\n\u001b[1;32m--> 123\u001b[1;33m     \u001b[1;32mif\u001b[0m \u001b[0misinstance\u001b[0m\u001b[1;33m(\u001b[0m\u001b[0mmodel\u001b[0m\u001b[1;33m.\u001b[0m\u001b[0mcall\u001b[0m\u001b[1;33m,\u001b[0m \u001b[0mdef_function\u001b[0m\u001b[1;33m.\u001b[0m\u001b[0mFunction\u001b[0m\u001b[1;33m)\u001b[0m\u001b[1;33m:\u001b[0m\u001b[1;33m\u001b[0m\u001b[0m\n\u001b[0m\u001b[0;32m    124\u001b[0m       \u001b[0minput_signature\u001b[0m \u001b[1;33m=\u001b[0m \u001b[0mmodel\u001b[0m\u001b[1;33m.\u001b[0m\u001b[0mcall\u001b[0m\u001b[1;33m.\u001b[0m\u001b[0minput_signature\u001b[0m\u001b[1;33m\u001b[0m\u001b[0m\n\u001b[0;32m    125\u001b[0m \u001b[1;33m\u001b[0m\u001b[0m\n",
      "\u001b[1;31mAttributeError\u001b[0m: 'str' object has no attribute 'call'"
     ]
    }
   ],
   "source": [
    "h5 = r\"F:\\workspace\\for_demos\\updateTo2.0\\out_dir\\linknet18_32_0.5_multi_96\\linknet_model.h5\"\n",
    "converter = tf.lite.TFLiteConverter.from_keras_model(h5)\n",
    "tflite_model = converter.convert()"
   ]
  },
  {
   "cell_type": "code",
   "execution_count": 3,
   "metadata": {},
   "outputs": [
    {
     "name": "stdout",
     "output_type": "stream",
     "text": [
      "Train on 6 samples\n",
      "Epoch 1/50\n",
      "6/6 [==============================] - 1s 194ms/sample - loss: 1.5624\n",
      "Epoch 2/50\n",
      "6/6 [==============================] - 0s 2ms/sample - loss: 1.3667\n",
      "Epoch 3/50\n",
      "6/6 [==============================] - 0s 3ms/sample - loss: 1.2100\n",
      "Epoch 4/50\n",
      "6/6 [==============================] - 0s 1ms/sample - loss: 1.0839\n",
      "Epoch 5/50\n",
      "6/6 [==============================] - 0s 1ms/sample - loss: 0.9819\n",
      "Epoch 6/50\n",
      "6/6 [==============================] - 0s 1ms/sample - loss: 0.8991\n",
      "Epoch 7/50\n",
      "6/6 [==============================] - 0s 1ms/sample - loss: 0.8313\n",
      "Epoch 8/50\n",
      "6/6 [==============================] - 0s 1ms/sample - loss: 0.7754\n",
      "Epoch 9/50\n",
      "6/6 [==============================] - 0s 1ms/sample - loss: 0.7290\n",
      "Epoch 10/50\n",
      "6/6 [==============================] - 0s 1ms/sample - loss: 0.6900\n",
      "Epoch 11/50\n",
      "6/6 [==============================] - 0s 1ms/sample - loss: 0.6569\n",
      "Epoch 12/50\n",
      "6/6 [==============================] - 0s 1ms/sample - loss: 0.6286\n",
      "Epoch 13/50\n",
      "6/6 [==============================] - 0s 1ms/sample - loss: 0.6040\n",
      "Epoch 14/50\n",
      "6/6 [==============================] - 0s 999us/sample - loss: 0.5824\n",
      "Epoch 15/50\n",
      "6/6 [==============================] - 0s 1ms/sample - loss: 0.5632\n",
      "Epoch 16/50\n",
      "6/6 [==============================] - 0s 1ms/sample - loss: 0.5459\n",
      "Epoch 17/50\n",
      "6/6 [==============================] - 0s 1ms/sample - loss: 0.5302\n",
      "Epoch 18/50\n",
      "6/6 [==============================] - 0s 1ms/sample - loss: 0.5158\n",
      "Epoch 19/50\n",
      "6/6 [==============================] - 0s 1ms/sample - loss: 0.5024\n",
      "Epoch 20/50\n",
      "6/6 [==============================] - 0s 999us/sample - loss: 0.4899\n",
      "Epoch 21/50\n",
      "6/6 [==============================] - 0s 1ms/sample - loss: 0.4782\n",
      "Epoch 22/50\n",
      "6/6 [==============================] - 0s 1ms/sample - loss: 0.4670\n",
      "Epoch 23/50\n",
      "6/6 [==============================] - 0s 1ms/sample - loss: 0.4563\n",
      "Epoch 24/50\n",
      "6/6 [==============================] - 0s 1ms/sample - loss: 0.4461\n",
      "Epoch 25/50\n",
      "6/6 [==============================] - 0s 1ms/sample - loss: 0.4363\n",
      "Epoch 26/50\n",
      "6/6 [==============================] - 0s 1ms/sample - loss: 0.4268\n",
      "Epoch 27/50\n",
      "6/6 [==============================] - 0s 1ms/sample - loss: 0.4176\n",
      "Epoch 28/50\n",
      "6/6 [==============================] - 0s 1ms/sample - loss: 0.4087\n",
      "Epoch 29/50\n",
      "6/6 [==============================] - 0s 1ms/sample - loss: 0.4001\n",
      "Epoch 30/50\n",
      "6/6 [==============================] - 0s 1ms/sample - loss: 0.3917\n",
      "Epoch 31/50\n",
      "6/6 [==============================] - 0s 1ms/sample - loss: 0.3835\n",
      "Epoch 32/50\n",
      "6/6 [==============================] - 0s 1ms/sample - loss: 0.3755\n",
      "Epoch 33/50\n",
      "6/6 [==============================] - 0s 1ms/sample - loss: 0.3677\n",
      "Epoch 34/50\n",
      "6/6 [==============================] - 0s 1ms/sample - loss: 0.3600\n",
      "Epoch 35/50\n",
      "6/6 [==============================] - 0s 1ms/sample - loss: 0.3526\n",
      "Epoch 36/50\n",
      "6/6 [==============================] - 0s 1ms/sample - loss: 0.3453\n",
      "Epoch 37/50\n",
      "6/6 [==============================] - 0s 1ms/sample - loss: 0.3382\n",
      "Epoch 38/50\n",
      "6/6 [==============================] - 0s 1ms/sample - loss: 0.3312\n",
      "Epoch 39/50\n",
      "6/6 [==============================] - 0s 1ms/sample - loss: 0.3244\n",
      "Epoch 40/50\n",
      "6/6 [==============================] - 0s 1ms/sample - loss: 0.3177\n",
      "Epoch 41/50\n",
      "6/6 [==============================] - 0s 1ms/sample - loss: 0.3111\n",
      "Epoch 42/50\n",
      "6/6 [==============================] - 0s 1ms/sample - loss: 0.3047\n",
      "Epoch 43/50\n",
      "6/6 [==============================] - 0s 1ms/sample - loss: 0.2985\n",
      "Epoch 44/50\n",
      "6/6 [==============================] - 0s 1ms/sample - loss: 0.2923\n",
      "Epoch 45/50\n",
      "6/6 [==============================] - 0s 1ms/sample - loss: 0.2863\n",
      "Epoch 46/50\n",
      "6/6 [==============================] - 0s 1ms/sample - loss: 0.2804\n",
      "Epoch 47/50\n",
      "6/6 [==============================] - 0s 1ms/sample - loss: 0.2747\n",
      "Epoch 48/50\n",
      "6/6 [==============================] - 0s 1ms/sample - loss: 0.2690\n",
      "Epoch 49/50\n",
      "6/6 [==============================] - 0s 1ms/sample - loss: 0.2635\n",
      "Epoch 50/50\n",
      "6/6 [==============================] - 0s 1ms/sample - loss: 0.2581\n"
     ]
    }
   ],
   "source": [
    "\n",
    "# 创建一个简单的 Keras 模型。\n",
    "x = [-1, 0, 1, 2, 3, 4]\n",
    "y = [-3, -1, 1, 3, 5, 7]\n",
    "\n",
    "model = tf.keras.models.Sequential(\n",
    "    [tf.keras.layers.Dense(units=1, input_shape=[1])])\n",
    "model.compile(optimizer='sgd', loss='mean_squared_error')\n",
    "model.fit(x, y, epochs=5)\n",
    "\n",
    "# 转换模型。\n",
    "converter = tf.lite.TFLiteConverter.from_keras_model(model)\n",
    "tflite_model = converter.convert()"
   ]
  },
  {
   "cell_type": "code",
   "execution_count": 5,
   "metadata": {},
   "outputs": [
    {
     "data": {
      "text/plain": [
       "bytes"
      ]
     },
     "execution_count": 5,
     "metadata": {},
     "output_type": "execute_result"
    }
   ],
   "source": [
    "#dir(tflite_model)\n",
    "type(tflite_model)"
   ]
  },
  {
   "cell_type": "code",
   "execution_count": 16,
   "metadata": {},
   "outputs": [
    {
     "name": "stdout",
     "output_type": "stream",
     "text": [
      "<class 'tensorflow.lite.python.interpreter.Interpreter'> ['__class__', '__del__', '__delattr__', '__dict__', '__dir__', '__doc__', '__eq__', '__format__', '__ge__', '__getattribute__', '__gt__', '__hash__', '__init__', '__init_subclass__', '__le__', '__lt__', '__module__', '__ne__', '__new__', '__reduce__', '__reduce_ex__', '__repr__', '__setattr__', '__sizeof__', '__str__', '__subclasshook__', '__weakref__', '_delegates', '_ensure_safe', '_get_tensor_details', '_interpreter', '_safe_to_run', '_tf_api_names', '_tf_api_names_v1', 'allocate_tensors', 'get_input_details', 'get_output_details', 'get_tensor', 'get_tensor_details', 'invoke', 'reset_all_variables', 'resize_tensor_input', 'set_tensor', 'tensor'] <tensorflow.lite.python.interpreter.Interpreter object at 0x00000214971776D8>\n",
      "<class 'list'> ['__add__', '__class__', '__contains__', '__delattr__', '__delitem__', '__dir__', '__doc__', '__eq__', '__format__', '__ge__', '__getattribute__', '__getitem__', '__gt__', '__hash__', '__iadd__', '__imul__', '__init__', '__init_subclass__', '__iter__', '__le__', '__len__', '__lt__', '__mul__', '__ne__', '__new__', '__reduce__', '__reduce_ex__', '__repr__', '__reversed__', '__rmul__', '__setattr__', '__setitem__', '__sizeof__', '__str__', '__subclasshook__', 'append', 'clear', 'copy', 'count', 'extend', 'index', 'insert', 'pop', 'remove', 'reverse', 'sort'] [{'name': 'input_1', 'index': 2, 'shape': array([ 1, 96, 96,  1]), 'dtype': <class 'numpy.float32'>, 'quantization': (0.0, 0)}] \n",
      "\n",
      "\n",
      "input: 1 [{'name': 'input_1', 'index': 2, 'shape': array([ 1, 96, 96,  1]), 'dtype': <class 'numpy.float32'>, 'quantization': (0.0, 0)}]\n",
      "output 1 [{'name': 'Identity', 'index': 1, 'shape': array([ 1, 96, 96,  3]), 'dtype': <class 'numpy.float32'>, 'quantization': (0.0, 0)}]\n",
      "(1, 96, 96, 3)\n"
     ]
    }
   ],
   "source": [
    "import numpy as np\n",
    "\n",
    "tflitef = r\"F:\\workspace\\for_demos\\updateTo2.0\\out_dir\\linknet18_32_0.5_multi_96\\linknet_model.tflite\"\n",
    "# Load TFLite model and allocate tensors.\n",
    "interpreter = tf.lite.Interpreter(model_path=tflitef)\n",
    "interpreter.allocate_tensors()\n",
    "\n",
    "# Get input and output tensors.\n",
    "input_details = interpreter.get_input_details()\n",
    "output_details = interpreter.get_output_details()\n",
    "\n",
    "# Test model on random input data.\n",
    "input_shape = input_details[0]['shape']\n",
    "input_data = np.array(np.random.random_sample(input_shape), dtype=np.float32)\n",
    "interpreter.set_tensor(input_details[0]['index'], input_data)\n",
    "\n",
    "interpreter.invoke()\n",
    "print(type(interpreter), dir(interpreter), interpreter)\n",
    "print(type(input_details), dir(input_details), input_details,'\\n\\n')\n",
    "print(\"input:\", len(input_details), input_details)\n",
    "\n",
    "print(\"output\", len(output_details), output_details)\n",
    "\n",
    "print(\"shape,\", input_shape)\n",
    "#ops = interpreter.get_operations()\n",
    "#print(ops)\n",
    "# The function `get_tensor()` returns a copy of the tensor data.\n",
    "# Use `tensor()` in order to get a pointer to the tensor.\n",
    "output_data = interpreter.get_tensor(output_details[0]['index'])\n",
    "print(output_data.shape)"
   ]
  },
  {
   "cell_type": "code",
   "execution_count": null,
   "metadata": {},
   "outputs": [],
   "source": []
  }
 ],
 "metadata": {
  "kernelspec": {
   "display_name": "Python 3",
   "language": "python",
   "name": "python3"
  },
  "language_info": {
   "codemirror_mode": {
    "name": "ipython",
    "version": 3
   },
   "file_extension": ".py",
   "mimetype": "text/x-python",
   "name": "python",
   "nbconvert_exporter": "python",
   "pygments_lexer": "ipython3",
   "version": "3.6.5"
  }
 },
 "nbformat": 4,
 "nbformat_minor": 2
}
