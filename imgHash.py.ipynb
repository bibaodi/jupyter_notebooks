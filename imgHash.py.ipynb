{
 "cells": [
  {
   "cell_type": "markdown",
   "metadata": {},
   "source": [
    "### 使用感知哈希算法计算图片相似度--汉明距离\n",
    "[图片相似度](http://www.ruanyifeng.com/blog/2011/07/principle_of_similar_image_search.html)"
   ]
  },
  {
   "cell_type": "code",
   "execution_count": 17,
   "metadata": {},
   "outputs": [],
   "source": [
    "#!/usr/bin/python\n",
    "## for python3.6\n",
    "import glob\n",
    "import os\n",
    "import sys\n",
    "import functools\n",
    "\n",
    "from PIL import Image\n",
    "\n",
    "EXTS = 'jpg', 'jpeg', 'JPG', 'JPEG', 'gif', 'GIF', 'png', 'PNG'\n",
    "\n",
    "reduce = functools.reduce\n",
    "\n",
    "def avhash(im):\n",
    "    if not isinstance(im, Image.Image):\n",
    "        print(f\"im: {im}\")\n",
    "        im = Image.open(im)\n",
    "    im = im.resize((8, 8), Image.ANTIALIAS).convert('L')\n",
    "    avg = reduce(lambda x, y: x + y, im.getdata()) / 64.\n",
    "    return reduce(lambda x, yz: x | (yz[-1] << yz[0]),enumerate(map(lambda i: 0 if i < avg else 1, im.getdata())),0)\n",
    "\n",
    "def hamming(h1, h2):\n",
    "    print(f\"h1:{h1}, h2:{h2}\")\n",
    "    h, d = 0, h1 ^ h2\n",
    "    print(f\"d: {d}\")\n",
    "    while d:\n",
    "        h += 1\n",
    "        d &= d - 1\n",
    "    return h\n",
    "\n",
    "def process(img, imgs_dir):\n",
    "        print(img, imgs_dir)\n",
    "        im = img\n",
    "        wd = imgs_dir\n",
    "        h = avhash(im)\n",
    "        print(os.getcwd())\n",
    "        os.chdir(wd)\n",
    "        print(os.getcwd())\n",
    "        images = []\n",
    "        for ext in EXTS:\n",
    "            images.extend(glob.glob(f'*.{ext}'))\n",
    "\n",
    "        seq = []\n",
    "        prog = int(len(images) > 50 and sys.stdout.isatty())\n",
    "        for f in images:\n",
    "            seq.append((f, hamming(avhash(f), h)))\n",
    "            if prog:\n",
    "                perc = 100. * prog / len(images)\n",
    "                x = int(2 * perc / 5)\n",
    "                print(f\"\\rCalculating... [{'#' * x} {' ' * (40 - x)} ]\", end='')\n",
    "                print(f\"{perc:.2f}% {prog}/{len(images)}\", end='')\n",
    "                sys.stdout.flush()\n",
    "                prog += 1\n",
    "            break\n",
    "\n",
    "        if prog: print\n",
    "        for f, ham in sorted(seq, key=lambda i: i[1]):\n",
    "            print(f\"{ham}\\t{f}\")\n",
    "\n",
    "                      \n",
    "if 0 and __name__ == '__main__':\n",
    "    if len(sys.argv) <= 1 or len(sys.argv) > 3:\n",
    "        print(f\"Usage: {sys.argv[0]} image.jpg [dir]\")\n",
    "    else:\n",
    "        im, wd = sys.argv[1], '.' if len(sys.argv) < 3 else sys.argv[2]\n",
    "        process(im, wd)\n"
   ]
  },
  {
   "cell_type": "code",
   "execution_count": 18,
   "metadata": {},
   "outputs": [
    {
     "name": "stdout",
     "output_type": "stream",
     "text": [
      "C:\\Users\\admin\\OneDrive\\图片\\Figure_Plaque_between0.1-0.9.png D:\\srcs\\demos\\dcm_frms\n",
      "im: C:\\Users\\admin\\OneDrive\\图片\\Figure_Plaque_between0.1-0.9.png\n",
      "D:\\srcs\\demos\\dcm_frms\n",
      "D:\\srcs\\demos\\dcm_frms\n",
      "im: frm-0001.png\n",
      "h1:59647, h2:9295711105869414339\n",
      "d: 9295711105869354812\n",
      "42\tfrm-0001.png\n"
     ]
    }
   ],
   "source": [
    "process(r\"C:\\Users\\admin\\OneDrive\\图片\\Figure_Plaque_between0.1-0.9.png\", r\"D:\\srcs\\demos\\dcm_frms\")"
   ]
  },
  {
   "cell_type": "code",
   "execution_count": null,
   "metadata": {},
   "outputs": [],
   "source": []
  }
 ],
 "metadata": {
  "kernelspec": {
   "display_name": "Python 3",
   "language": "python",
   "name": "python3"
  },
  "language_info": {
   "codemirror_mode": {
    "name": "ipython",
    "version": 3
   },
   "file_extension": ".py",
   "mimetype": "text/x-python",
   "name": "python",
   "nbconvert_exporter": "python",
   "pygments_lexer": "ipython3",
   "version": "3.6.8"
  }
 },
 "nbformat": 4,
 "nbformat_minor": 2
}
