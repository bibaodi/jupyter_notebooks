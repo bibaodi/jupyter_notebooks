{
 "cells": [
  {
   "cell_type": "code",
   "execution_count": 7,
   "id": "4749a2db",
   "metadata": {},
   "outputs": [
    {
     "name": "stdout",
     "output_type": "stream",
     "text": [
      "n1 is row-major, shape=(2, 4),\n",
      " n1:[[1 2 3 4]\n",
      " [5 6 7 8]]\n",
      "n1T is column-major but shape changed.n1T=[[1 5]\n",
      " [2 6]\n",
      " [3 7]\n",
      " [4 8]]\n",
      "--------------------\n",
      "n2 is row-major, shape=(4, 2),\n",
      " n1:[[1 2]\n",
      " [3 4]\n",
      " [5 6]\n",
      " [7 8]]\n",
      "n2T is column-major but shape changedn2T=[[1 3 5 7]\n",
      " [2 4 6 8]]\n",
      "\n",
      "********************\n",
      " so, n2T is the same shape with n1, from row-major to column-major\n"
     ]
    }
   ],
   "source": [
    "import numpy as np\n",
    "\n",
    "n1=np.array([[1,2,3,4],[5,6,7,8]])\n",
    "n1T=n1.transpose()\n",
    "n2=np.resize(n1, (4,2))\n",
    "n2T=n2.transpose()\n",
    "print(f\"n1 is row-major, shape={n1.shape},\\n n1:{n1}\\nn1T is column-major but shape changed.n1T={n1T}\")\n",
    "print(\"-\"*20)\n",
    "print(f\"n2 is row-major, shape={n2.shape},\\n n1:{n2}\\nn2T is column-major but shape changedn2T={n2T}\")\n",
    "print(f\"\\n{'*'*20}\\n so, n2T is the same shape with n1, from row-major to column-major\")"
   ]
  },
  {
   "cell_type": "code",
   "execution_count": 8,
   "id": "54c49507",
   "metadata": {},
   "outputs": [
    {
     "name": "stdout",
     "output_type": "stream",
     "text": [
      "[[1 5]\n",
      " [2 6]\n",
      " [3 7]\n",
      " [4 8]]\n"
     ]
    }
   ],
   "source": [
    "print(n1.transpose())"
   ]
  },
  {
   "cell_type": "code",
   "execution_count": null,
   "id": "c56bc22e",
   "metadata": {},
   "outputs": [],
   "source": [
    "import matplotlib.pyplot as plt\n",
    "\n",
    "plt.plot(n1[0,:], label='L')\n",
    "plt.plot(n1T[:,1],label='T')\n",
    "plt.legend()\n",
    "plt.show()"
   ]
  },
  {
   "cell_type": "code",
   "execution_count": null,
   "id": "6b5fcc03",
   "metadata": {},
   "outputs": [],
   "source": []
  }
 ],
 "metadata": {
  "kernelspec": {
   "display_name": "Python 3 (ipykernel)",
   "language": "python",
   "name": "python3"
  },
  "language_info": {
   "codemirror_mode": {
    "name": "ipython",
    "version": 3
   },
   "file_extension": ".py",
   "mimetype": "text/x-python",
   "name": "python",
   "nbconvert_exporter": "python",
   "pygments_lexer": "ipython3",
   "version": "3.11.2"
  }
 },
 "nbformat": 4,
 "nbformat_minor": 5
}
