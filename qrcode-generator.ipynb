{
 "cells": [
  {
   "cell_type": "markdown",
   "metadata": {},
   "source": [
    "### 生成qrcode\n",
    "### 20191031"
   ]
  },
  {
   "cell_type": "code",
   "execution_count": 3,
   "metadata": {},
   "outputs": [],
   "source": [
    "from PIL import Image\n",
    "import qrcode,os\n",
    "\n",
    "def create_qrcode(url,qrcodename, img_path):\n",
    "    qr = qrcode.QRCode(\n",
    "    version=1, # 设置容错率为最高\n",
    "    error_correction=qrcode.ERROR_CORRECT_H, # 用于控制二维码的错误纠正程度\n",
    "    box_size=8, # 控制二维码中每个格子的像素数，默认为10\n",
    "    border=1, # 二维码四周留白，包含的格子数，默认为4\n",
    "    #image_factory=None, 保存在模块根目录的image文件夹下\n",
    "    #mask_pattern=None\n",
    "    )\n",
    "\n",
    "    qr.add_data(url) # QRCode.add_data(data)函数添加数据\n",
    "    qr.make(fit=True) # QRCode.make(fit=True)函数生成图片\n",
    "\n",
    "    img = qr.make_image()\n",
    "    img = img.convert(\"RGBA\") # 二维码设为彩色\n",
    "    logo = Image.open(img_path) # 传gif生成的二维码也是没有动态效果的\n",
    "    \n",
    "    w , h = img.size\n",
    "    logo_w, logo_h = logo.size\n",
    "    factor = 4 # 默认logo最大设为图片的四分之一\n",
    "    s_w = int(w / factor)\n",
    "    s_h = int(h / factor)\n",
    "    if logo_w > s_w or logo_h > s_h:\n",
    "        logo_w = s_w\n",
    "        logo_h = s_h\n",
    "\n",
    "    logo = logo.resize((logo_w, logo_h), Image.ANTIALIAS)\n",
    "    l_w = int((w - logo_w) / 2)\n",
    "    l_h = int((h - logo_h) / 2)\n",
    "    logo = logo.convert(\"RGBA\")\n",
    "    img.paste(logo, (l_w, l_h), logo)\n",
    "    img.show()\n",
    "    img.save(os.getcwd()+'/' + qrcodename + '.png', quality=100)"
   ]
  },
  {
   "cell_type": "code",
   "execution_count": 6,
   "metadata": {},
   "outputs": [
    {
     "data": {
      "image/png": "[encoded data removed]",
      "text/plain": [
       "<Figure size 432x288 with 1 Axes>"
      ]
     },
     "metadata": {
      "needs_background": "light"
     },
     "output_type": "display_data"
    }
   ],
   "source": [
    "import qrcode\n",
    "from PIL import Image\n",
    "import matplotlib.pyplot as plt\n",
    "\n",
    "\n",
    "def getQRcode(data, file_name, img_path):\n",
    "    qr = qrcode.QRCode(\n",
    "        version=1,\n",
    "        error_correction=qrcode.constants.ERROR_CORRECT_H,\n",
    "        box_size=5,\n",
    "        border=4,\n",
    "    )\n",
    "\n",
    "    # 添加数据\n",
    "    qr.add_data(data)\n",
    "    # 填充数据\n",
    "    qr.make(fit=True)\n",
    "    # 生成图片\n",
    "    img = qr.make_image(fill_color=\"green\", back_color=\"white\")\n",
    "\n",
    "    # 添加logo，打开logo照片\n",
    "    icon = Image.open(img_path)\n",
    "    # 获取图片的宽高\n",
    "    img_w, img_h = img.size\n",
    "    # 参数设置logo的大小\n",
    "    factor = 6\n",
    "    size_w = int(img_w / factor)\n",
    "    size_h = int(img_h / factor)\n",
    "    icon_w, icon_h = icon.size\n",
    "    if icon_w > size_w:\n",
    "        icon_w = size_w\n",
    "    if icon_h > size_h:\n",
    "        icon_h = size_h\n",
    "    # 重新设置logo的尺寸\n",
    "    icon = icon.resize((icon_w, icon_h))\n",
    "    # 得到画图的x，y坐标，居中显示\n",
    "    w = int((img_w - icon_w) / 2)\n",
    "    h = int((img_h - icon_h) / 2)\n",
    "    # 黏贴logo照\n",
    "    img.paste(icon, (w, h), mask=None)\n",
    "    # 终端显示图片\n",
    "    plt.imshow(img)\n",
    "    plt.show()\n",
    "    # 保存img\n",
    "    img.save(file_name)\n",
    "    return img\n",
    "\n",
    "\n",
    "if __name__ == '__main__':\n",
    "    getQRcode(\"http://www.jishimed.com/download/app1.1.4.apk\", \"app1.1.4.png\", \"logo.png\")"
   ]
  },
  {
   "cell_type": "code",
   "execution_count": 4,
   "metadata": {},
   "outputs": [],
   "source": [
    "create_qrcode(\"http://www.jishimed.com/download/app1.1.4.apk\", \"app1.1.4.png\", \"logo.png\")"
   ]
  },
  {
   "cell_type": "code",
   "execution_count": null,
   "metadata": {},
   "outputs": [],
   "source": [
    "import qrcode as qr\n",
    "qr.make(\"http://www.jishimed.com/download/app1.1.4.apk\", \"app1.1.4.png\", \"logo.png\")"
   ]
  }
 ],
 "metadata": {
  "kernelspec": {
   "display_name": "Python 3",
   "language": "python",
   "name": "python3"
  },
  "language_info": {
   "codemirror_mode": {
    "name": "ipython",
    "version": 3
   },
   "file_extension": ".py",
   "mimetype": "text/x-python",
   "name": "python",
   "nbconvert_exporter": "python",
   "pygments_lexer": "ipython3",
   "version": "3.6.5"
  }
 },
 "nbformat": 4,
 "nbformat_minor": 2
}
