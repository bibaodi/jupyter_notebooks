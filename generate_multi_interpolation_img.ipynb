{
 "cells": [
  {
   "cell_type": "markdown",
   "metadata": {},
   "source": [
    "### 将测试数据图片生成为应用多个interpolation的目录, 然后区分目录查看是否预测有区分"
   ]
  },
  {
   "cell_type": "code",
   "execution_count": 1,
   "metadata": {},
   "outputs": [],
   "source": [
    "import cv2\n",
    "import numpy as np\n",
    "import os\n",
    "CROP_SIZE = 448\n",
    "\n",
    "def crop_img_and_remove_black_edge(img, true_width_left: int,\n",
    "                                   true_width_right: int):\n",
    "    r, c = img.shape[:2]\n",
    "    true_width = true_width_right - true_width_left + 1\n",
    "    if true_width < 1:\n",
    "        raise ValueError(\"true width wrong!\")\n",
    "    row_start = 0\n",
    "    if true_width > r:\n",
    "        raise ValueError(f\"true width can not be cuted r{r}c{c}t{true_width}\")\n",
    "    else:\n",
    "        col_start = true_width_left\n",
    "        size = true_width\n",
    "    xshift = col_start\n",
    "    yshift = row_start\n",
    "    return img[row_start:row_start + size, col_start:col_start +\n",
    "               size], xshift, yshift"
   ]
  },
  {
   "cell_type": "code",
   "execution_count": 2,
   "metadata": {},
   "outputs": [],
   "source": [
    "def get_image_actual_width_index_range_mem(imagebuff=None):\n",
    "    \"\"\"\n",
    "        根据已经读入内存的图片的矩阵获取图像有效宽度, 输入参数类型为numpy.ndarray\n",
    "        返回tuple(left, right) 代表有效列的索引\n",
    "    \"\"\"\n",
    "    if not imagebuff.any() or not isinstance(imagebuff, np.ndarray):\n",
    "        raise ValueError(\"param is not np.ndarray\")\n",
    "    if len(imagebuff.shape) != 2 and len(imagebuff.shape) != 3:\n",
    "        raise ValueError(\n",
    "            \"image must in IMREAD_GRAYSCALE or IMREAD_COLOR(height, row, gray)!\"\n",
    "        )\n",
    "\n",
    "    gray_img = imagebuff.sum(axis=2) if len(imagebuff) == 3 else imagebuff\n",
    "\n",
    "    gray_img_t = gray_img.transpose()\n",
    "\n",
    "    left = 0\n",
    "    right = gray_img_t.shape[0] - 1\n",
    "    for col in range(gray_img_t.shape[0]):\n",
    "        column = gray_img_t[col]\n",
    "        column.sort()\n",
    "        top20 = column[-20:]\n",
    "        if top20.mean() > 10:\n",
    "            left = col\n",
    "            break\n",
    "    for col in range(gray_img_t.shape[0] - 1, -1, -1):\n",
    "        column = gray_img_t[col]\n",
    "        column.sort()\n",
    "        top20 = column[-20:]\n",
    "        if top20.mean() > 10:\n",
    "            right = col\n",
    "            break\n",
    "    return (left, right)"
   ]
  },
  {
   "cell_type": "code",
   "execution_count": 3,
   "metadata": {},
   "outputs": [],
   "source": [
    "def correct_image_size(img_array, zoom=False):\n",
    "    \"\"\"\n",
    "        crop+resize. 返回处理好的图片并返回X轴偏移以及缩放比例. \n",
    "    \"\"\"\n",
    "    #print(f\"correct_image_size: array shape is {img_array.shape}, type({type(img_array)})\")\n",
    "    interpolations = [cv2.INTER_AREA,  cv2.INTER_NEAREST, cv2.INTER_LINEAR, cv2.INTER_CUBIC, cv2.INTER_LANCZOS4 ]\n",
    "    imgs = []\n",
    "    if not img_array.any() or not isinstance(img_array, np.ndarray):\n",
    "        raise ValueError(\"param is not np.ndarray\")\n",
    "    if len(img_array.shape) != 2 and len(img_array.shape) != 3:\n",
    "        raise ValueError(\n",
    "            \"image must in IMREAD_GRAYSCALE or IMREAD_COLOR(height, row, gray)!\"\n",
    "        )\n",
    "    true_width = get_image_actual_width_index_range_mem(img_array.copy())\n",
    "    img_croped, xshift, _ = crop_img_and_remove_black_edge(\n",
    "        img_array, true_width[0], true_width[1])\n",
    "    if zoom:\n",
    "        for inter in interpolations:\n",
    "            print(\"interpolation:\", inter)\n",
    "            img_array_new = cv2.resize(img_croped,\n",
    "                                       dsize=(CROP_SIZE, CROP_SIZE),\n",
    "                                       interpolation=inter)\n",
    "            imgs.append(img_array_new)\n",
    "            break\n",
    "    else:\n",
    "        img_array_new = img_croped\n",
    "        imgs.append(img_array_new)\n",
    "    ratio = img_array_new.shape[0] / img_croped.shape[0]\n",
    "    return imgs, xshift, ratio"
   ]
  },
  {
   "cell_type": "code",
   "execution_count": 4,
   "metadata": {},
   "outputs": [],
   "source": [
    "def read_image_and_correct_it(imagefile=None, zoom=False):\n",
    "    \"\"\"\n",
    "    读取图片, 如果图片不是448*448的那么进行crop, resize\n",
    "    注意: 此函数调用后需要配套修改json的坐标\n",
    "    \"\"\"\n",
    "    #print(f\"read_image_and_correct_it: file is {imagefile}\")\n",
    "    if not imagefile:\n",
    "        raise ValueError(\"imagefile is None\")\n",
    "    if not os.path.isfile:\n",
    "        msg = f\"imagefile {imagefile} not exist\"\n",
    "        raise ValueError(msg)\n",
    "    img = cv2.imread(imagefile, cv2.IMREAD_GRAYSCALE)\n",
    "    if not img.size:\n",
    "        raise ValueError(\"imagefile read None\")\n",
    "    #print(f\"read_image_and_correct_it: array shape is {img.shape}, type({type(img)})\")\n",
    "    xshift = 0\n",
    "    ratio = 1\n",
    "    if img.shape[0:2] == (CROP_SIZE, CROP_SIZE):\n",
    "        new_img = img\n",
    "    else:\n",
    "        new_img, xshift, ratio = correct_image_size(img, zoom)\n",
    "\n",
    "    return (new_img, xshift, ratio)"
   ]
  },
  {
   "cell_type": "code",
   "execution_count": 10,
   "metadata": {},
   "outputs": [],
   "source": [
    "def generate_interpolation_image(dirr=r\"F:\\workspace\\for_clahe\\1.3.6.1.4.1.52026.1.1.1_frms\"):\n",
    "    files = os.listdir(dirr)\n",
    "    out_dir = dirr+\"AREA\"\n",
    "    os.makedirs(out_dir, exist_ok=True)\n",
    "    for ct, inf in enumerate(files):\n",
    "        infile = os.path.join(dirr, inf)\n",
    "        if \"png\" not in inf:\n",
    "            continue\n",
    "        #outf = inf.split(\".png\")[0]+\"clahe.png\"\n",
    "        outf = os.path.join(out_dir, inf)\n",
    "        print(outf)\n",
    "        imgs, x, r = read_image_and_correct_it(infile, True)\n",
    "        #print(type(imgs), imgs.shape)\n",
    "        #combine_img = merge_multi_image_2_one([imgs, apply_clahe(imgs)])\n",
    "        cv2.imwrite(outf, imgs[0])\n",
    "        break"
   ]
  },
  {
   "cell_type": "code",
   "execution_count": 11,
   "metadata": {},
   "outputs": [
    {
     "name": "stdout",
     "output_type": "stream",
     "text": [
      "F:\\workspace\\testSet5.0_raw\\03_04_XX_Plaque_L_01_frmsAREA\\frm-0001.png\n",
      "interpolation: 3\n"
     ]
    }
   ],
   "source": [
    "testdir=r\"F:\\workspace\\testSet5.0_raw\\03_04_XX_Plaque_L_01_frms\"\n",
    "generate_interpolation_image(testdir)"
   ]
  },
  {
   "cell_type": "code",
   "execution_count": null,
   "metadata": {},
   "outputs": [],
   "source": []
  }
 ],
 "metadata": {
  "kernelspec": {
   "display_name": "Python 3",
   "language": "python",
   "name": "python3"
  },
  "language_info": {
   "codemirror_mode": {
    "name": "ipython",
    "version": 3
   },
   "file_extension": ".py",
   "mimetype": "text/x-python",
   "name": "python",
   "nbconvert_exporter": "python",
   "pygments_lexer": "ipython3",
   "version": "3.6.8"
  }
 },
 "nbformat": 4,
 "nbformat_minor": 2
}
