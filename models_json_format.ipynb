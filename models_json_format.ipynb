{
 "cells": [
  {
   "cell_type": "code",
   "execution_count": 7,
   "metadata": {},
   "outputs": [],
   "source": [
    "import json\n",
    "\n",
    "\n",
    "\n",
    "model = {\n",
    "    \"name\": \"plaque\",\n",
    "    \"version\": \"2.7.0\",\n",
    "    \"md5sum\": \"123\"\n",
    "}\n",
    "model2 = {\n",
    "    \"name\": \"plaque2\",\n",
    "    \"version\": \"2.7.01\",\n",
    "    \"md5sum\": \"1232\"\n",
    "}\n",
    "models = [model, model2]\n",
    "\n",
    "with open('models.json', 'w')  as f:\n",
    "    json.dump(models, f , indent=2)\n",
    "    \n"
   ]
  },
  {
   "cell_type": "code",
   "execution_count": 19,
   "metadata": {},
   "outputs": [
    {
     "name": "stdout",
     "output_type": "stream",
     "text": [
      "[{'name': 'bpv1.9.aug_191022.tflite', 'md5': 'b6f59ef24507cbb89276435a65aea954'}, {'name': 'bpv1.9.aug_191022.xml', 'md5': '30582cde922406f2e0a54332ce5adf2d'}, {'name': 'plaque7.0full.rotate191028.tflite', 'md5': '630a280ea413601805edb3475688cf9a'}, {'name': 'plaque7.0full.rotate191028.xml', 'md5': 'e8e8ddd45643fd1675c77b9c280206fd'}, {'name': 'plaque7.0full191012.tflite', 'md5': '7b4b7bc4891595aa36e94d007129906f'}, {'name': 'plaque7.0full191012.xml', 'md5': 'd5d64406346e12c9e52e199b4edf2896'}, {'name': 'presets.jml', 'md5': '908925d14c1952b95c1905ba9254823c'}]\n"
     ]
    }
   ],
   "source": [
    "# 计算所有文件的md5值并输出到json文件进行保存\n",
    "import os\n",
    "import hashlib\n",
    "\n",
    "rootdir = r\"D:\\Subjects\\handheld_app\\model2019\\modelsV2.7.0\"\n",
    "files = os.listdir(rootdir)\n",
    "valid_file = 'validation.json'\n",
    "vals = []\n",
    "for f in files:\n",
    "    \n",
    "    fil = os.path.join(rootdir, f)\n",
    "    if not os.path.isfile(fil):\n",
    "        print(f\"fil: {fil} not exist\")\n",
    "        continue\n",
    "    elif f == valid_file:\n",
    "        continue\n",
    "    else:\n",
    "        md5sum = hashlib.md5()\n",
    "        with open(fil, 'rb') as buf:\n",
    "            md5sum.update(buf.read())\n",
    "            md5_value = md5sum.hexdigest()\n",
    "    vals.append({'name':f, 'md5':md5_value})\n",
    "print(vals)\n",
    "json_file = os.path.join(rootdir, valid_file)\n",
    "with open(json_file, 'w')  as f:\n",
    "    json.dump(vals, f , indent=2)"
   ]
  },
  {
   "cell_type": "code",
   "execution_count": 20,
   "metadata": {},
   "outputs": [],
   "source": [
    "import json\n",
    "models = []\n",
    "model_info = {\n",
    "        \"name\": \"modelsV2.7.0.zip\",\n",
    "        \"version\": \"2.7.0\",\n",
    "        \"version_code\": 270,\n",
    "        \"model_xml_version\": \"2.2\",\n",
    "        \"md5sum\": \"E835A82F530854E8E664B92A0E63E341\",\n",
    "        \"url\": \" https://yingling-s3test.s3.cn-north-1.amazonaws.com.cn/Models/modelsV2.7.0.zip \",\n",
    "        \"update\": \"formal release\"\n",
    "}\n",
    "for i in range(3):\n",
    "    models.append(model_info)\n",
    "    \n",
    "with open(\"test_models.json\", 'w') as f:\n",
    "    json.dump(models, f, indent=2)\n",
    "    "
   ]
  },
  {
   "cell_type": "code",
   "execution_count": 22,
   "metadata": {},
   "outputs": [
    {
     "name": "stdout",
     "output_type": "stream",
     "text": [
      "j:[{'name': 'modelsV2.7.0.zip', 'version': '2.7.0', 'version_code': 270, 'model_xml_version': '2.2', 'md5sum': 'E835A82F530854E8E664B92A0E63E341', 'url': ' https://yingling-s3test.s3.cn-north-1.amazonaws.com.cn/Models/modelsV2.7.0.zip ', 'update': 'formal release'}, {'name': 'modelsV2.7.0.zip', 'version': '2.7.0', 'version_code': 270, 'model_xml_version': '2.2', 'md5sum': 'E835A82F530854E8E664B92A0E63E341', 'url': ' https://yingling-s3test.s3.cn-north-1.amazonaws.com.cn/Models/modelsV2.7.0.zip ', 'update': 'formal release'}, {'name': 'modelsV2.7.0.zip', 'version': '2.7.0', 'version_code': 270, 'model_xml_version': '2.2', 'md5sum': 'E835A82F530854E8E664B92A0E63E341', 'url': ' https://yingling-s3test.s3.cn-north-1.amazonaws.com.cn/Models/modelsV2.7.0.zip ', 'update': 'formal release'}]\n"
     ]
    }
   ],
   "source": [
    "with open(\"test_models.json\", 'r') as f:\n",
    "    js = json.load(f)\n",
    "print(f\"j:{js}\")\n",
    "for m in js:\n",
    "    latest"
   ]
  },
  {
   "cell_type": "code",
   "execution_count": null,
   "metadata": {},
   "outputs": [],
   "source": []
  }
 ],
 "metadata": {
  "kernelspec": {
   "display_name": "Python 3",
   "language": "python",
   "name": "python3"
  },
  "language_info": {
   "codemirror_mode": {
    "name": "ipython",
    "version": 3
   },
   "file_extension": ".py",
   "mimetype": "text/x-python",
   "name": "python",
   "nbconvert_exporter": "python",
   "pygments_lexer": "ipython3",
   "version": "3.6.5"
  }
 },
 "nbformat": 4,
 "nbformat_minor": 2
}
