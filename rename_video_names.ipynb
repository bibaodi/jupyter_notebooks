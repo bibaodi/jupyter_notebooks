{
 "cells": [
  {
   "cell_type": "markdown",
   "metadata": {},
   "source": [
    "#### 批量修改文件夹的名字, 都带上_frms\n",
    "为了更好的对下次去掉'董终审', 此次也提供支持\n"
   ]
  },
  {
   "cell_type": "code",
   "execution_count": 13,
   "metadata": {},
   "outputs": [
    {
     "name": "stdout",
     "output_type": "stream",
     "text": [
      "rename 07_Plaque_04_YY_01_frms董终审 to 07_Plaque_04_YY_01_frms\n",
      "rename 07_Plaque_10_YY_02董终审 to 07_Plaque_10_YY_02_frms\n",
      "rename asdfasj_frms to asdfasj_frms\n"
     ]
    }
   ],
   "source": [
    "import os\n",
    "import string\n",
    "\n",
    "r = r'F:\\workspace\\p7.delta'\n",
    "os.getcwd()\n",
    "os.chdir(r)\n",
    "os.getcwd()\n",
    "\n",
    "def add_prefix_to_name(ori_name=\"\", prefix=\"_frms\", judge_before_do=True):\n",
    "    if not ori_name:\n",
    "        print(\"no name specified\")\n",
    "        return \n",
    "    striped = filter(lambda x: x in string.printable, ori_name)\n",
    "    ori_name = ''.join(list(striped))\n",
    "    if judge_before_do:\n",
    "        new_name = ori_name + prefix if prefix not in ori_name else ori_name\n",
    "    else:\n",
    "        new_name = ori_name + prefix\n",
    "        \n",
    "    return new_name\n",
    "\n",
    "#add_prefix_to_name(r)\n",
    "\n",
    "def change_all_folder_name(root_dir=\"\", rename_func=None):\n",
    "    if not root_dir or not os.path.isdir(root_dir):\n",
    "        print(\"Invaild Root Path\")\n",
    "        return\n",
    "    if not rename_func:\n",
    "        print(\"rename_function must specified\")\n",
    "        return \n",
    "    items = os.listdir(root_dir)\n",
    "    sub_dirs = [i for i in items if os.path.isdir(i)]\n",
    "    #print(sub_dirs)\n",
    "    new_dirs = [rename_func(i) for i in sub_dirs]\n",
    "    #os.rename(sub_dirs[0], new_dirs[0])\n",
    "    for x,y in zip(sub_dirs, new_dirs):\n",
    "        print(f\"rename {x} to {y}\")\n",
    "        os.rename(x, y)\n",
    "    return \n",
    "    \n",
    "change_all_folder_name(r, add_prefix_to_name)"
   ]
  },
  {
   "cell_type": "code",
   "execution_count": 10,
   "metadata": {},
   "outputs": [
    {
     "name": "stdout",
     "output_type": "stream",
     "text": [
      "asdfasj\n"
     ]
    }
   ],
   "source": [
    "\n",
    "s = \"asdfasj发哈是\"\n",
    "fil = filter(lambda x: x in string.printable, s)\n",
    "subs = ''.join(list(fil))"
   ]
  },
  {
   "cell_type": "code",
   "execution_count": null,
   "metadata": {},
   "outputs": [],
   "source": []
  }
 ],
 "metadata": {
  "kernelspec": {
   "display_name": "Python 3",
   "language": "python",
   "name": "python3"
  },
  "language_info": {
   "codemirror_mode": {
    "name": "ipython",
    "version": 3
   },
   "file_extension": ".py",
   "mimetype": "text/x-python",
   "name": "python",
   "nbconvert_exporter": "python",
   "pygments_lexer": "ipython3",
   "version": "3.6.8"
  }
 },
 "nbformat": 4,
 "nbformat_minor": 2
}
