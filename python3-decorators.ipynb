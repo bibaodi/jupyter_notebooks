{
 "cells": [
  {
   "cell_type": "markdown",
   "metadata": {},
   "source": [
    "## about decorator"
   ]
  },
  {
   "cell_type": "code",
   "execution_count": 9,
   "metadata": {},
   "outputs": [],
   "source": [
    "import functools"
   ]
  },
  {
   "cell_type": "code",
   "execution_count": 12,
   "metadata": {},
   "outputs": [
    {
     "name": "stdout",
     "output_type": "stream",
     "text": [
      "func: hello\n",
      "hello peter\n"
     ]
    },
    {
     "data": {
      "text/plain": [
       "'hello'"
      ]
     },
     "execution_count": 12,
     "metadata": {},
     "output_type": "execute_result"
    }
   ],
   "source": [
    "#  为函数的调用增加了打印的装饰器\n",
    "def deco1(fun):\n",
    "    @functools.wraps(fun)\n",
    "    def wrapper(*args, **kargs):\n",
    "        print(\"func:\", fun.__name__)\n",
    "        return fun(*args, **kargs)\n",
    "    return wrapper\n",
    "\n",
    "@deco1\n",
    "def hello(name=\"jhon\"):\n",
    "    print(f\"hello {name}\")\n",
    "    return name\n",
    "\n",
    "hello('peter')\n",
    "\n",
    "fun=hello\n",
    "fun.__name__"
   ]
  },
  {
   "cell_type": "code",
   "execution_count": 17,
   "metadata": {},
   "outputs": [],
   "source": [
    "## 为函数提供额外参数的装饰器, 其实没意义, 函数参数数量是不会改变的, 这个只是给装饰器提供了参数而已. \n",
    "## 支持给装饰器传递参数其实用了 闭包 \n",
    "def addn(n=42):\n",
    "    def decorateit(func):\n",
    "        @functools.wraps(func)\n",
    "        def wrapper(a, b=n):\n",
    "            return (func(a, n))\n",
    "        return wrapper\n",
    "    return decorateit\n",
    "\n",
    "@addn(-1)\n",
    "def adds(a, b):\n",
    "    return a+b\n",
    "                \n"
   ]
  },
  {
   "cell_type": "code",
   "execution_count": 18,
   "metadata": {},
   "outputs": [
    {
     "data": {
      "text/plain": [
       "3"
      ]
     },
     "execution_count": 18,
     "metadata": {},
     "output_type": "execute_result"
    }
   ],
   "source": [
    "adds(4)"
   ]
  },
  {
   "cell_type": "code",
   "execution_count": 21,
   "metadata": {},
   "outputs": [
    {
     "data": {
      "text/plain": [
       "44"
      ]
     },
     "execution_count": 21,
     "metadata": {},
     "output_type": "execute_result"
    }
   ],
   "source": [
    "def addss(a, b):\n",
    "    return (a+b)\n",
    "\n",
    "def adds42(a):\n",
    "    return addss(a, 42)\n",
    "\n",
    "func42 = lambda a: addss(a, 42)\n",
    "#adds42(2)\n",
    "func42(2)"
   ]
  },
  {
   "cell_type": "code",
   "execution_count": null,
   "metadata": {},
   "outputs": [],
   "source": []
  }
 ],
 "metadata": {
  "kernelspec": {
   "display_name": "Python 3",
   "language": "python",
   "name": "python3"
  },
  "language_info": {
   "codemirror_mode": {
    "name": "ipython",
    "version": 3
   },
   "file_extension": ".py",
   "mimetype": "text/x-python",
   "name": "python",
   "nbconvert_exporter": "python",
   "pygments_lexer": "ipython3",
   "version": "3.6.8"
  }
 },
 "nbformat": 4,
 "nbformat_minor": 2
}
