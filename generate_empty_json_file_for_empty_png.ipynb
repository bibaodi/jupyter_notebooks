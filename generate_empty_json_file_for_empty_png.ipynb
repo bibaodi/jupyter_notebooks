{
 "cells": [
  {
   "cell_type": "code",
   "execution_count": 1,
   "metadata": {},
   "outputs": [],
   "source": [
    "import json\n",
    "empty_json = \"\"\"\n",
    "                {\n",
    "                \"shapes\": [],\n",
    "                \"lineColor\": [\n",
    "                    0,\n",
    "                    255,\n",
    "                    0,\n",
    "                    128\n",
    "                ],\n",
    "                \"fillColor\": [\n",
    "                    255,\n",
    "                    0,\n",
    "                    0,\n",
    "                    128\n",
    "                ],\n",
    "                \"imagePath\": \"osimis-viewer01.png\",\n",
    "                \"imageData\": null\n",
    "                }\n",
    "                \"\"\""
   ]
  },
  {
   "cell_type": "code",
   "execution_count": 3,
   "metadata": {},
   "outputs": [
    {
     "name": "stdout",
     "output_type": "stream",
     "text": [
      "{'shapes': [], 'lineColor': [0, 255, 0, 128], 'fillColor': [255, 0, 0, 128], 'imagePath': 'osimis-viewer01.png', 'imageData': None} {'shapes': [], 'lineColor': [0, 255, 0, 128], 'fillColor': [255, 0, 0, 128], 'imagePath': 'osimis-viewer01.png', 'imageData': None} False True\n"
     ]
    }
   ],
   "source": [
    "f = r\"C:\\Users\\admin\\Desktop\\osimis-viewer01.json\"\n",
    "with open(f) as fp:\n",
    "    j0=json.load(fp)\n",
    "j1 = json.loads(empty_json)\n",
    "\n",
    "print(j0, j1, j0 is j1, j0==j1)"
   ]
  },
  {
   "cell_type": "code",
   "execution_count": null,
   "metadata": {},
   "outputs": [],
   "source": []
  }
 ],
 "metadata": {
  "kernelspec": {
   "display_name": "Python 3",
   "language": "python",
   "name": "python3"
  },
  "language_info": {
   "codemirror_mode": {
    "name": "ipython",
    "version": 3
   },
   "file_extension": ".py",
   "mimetype": "text/x-python",
   "name": "python",
   "nbconvert_exporter": "python",
   "pygments_lexer": "ipython3",
   "version": "3.6.8"
  }
 },
 "nbformat": 4,
 "nbformat_minor": 2
}
