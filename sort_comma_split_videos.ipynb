{
 "cells": [
  {
   "cell_type": "code",
   "execution_count": 44,
   "metadata": {},
   "outputs": [],
   "source": [
    "val26 = '05_63_XX_Vessel_R_01, 05_62_XX_Vessel_L_01, 03_18_XX_Plaque_L_01, 05_58_XX_Vessel_L_01, 05_71_XX_Vessel_L_01, 05_08_XX_Vessel_R_01, 03_06_XX_Plaque_L_01, 03_13_XX_Plaque_R_01, 05_04_XX_Vessel_L_01, 07_Plaque_02_YY_01, 05_42_XX_Vessel_R_01, 03_12_XX_Plaque_L_01, 05_64_XX_Vessel_R_01, 05_55_XX_Vessel_R_01, 05_68_XX_Vessel_R_01, 06_Plaque_XX_YY_01, 05_50_XX_Vessel_R_01, 05_79_XX_Vessel_R_03, 05_76_XX_Vessel_L_02, 05_47_XX_Vessel_R_02, 03_09_XX_Plaque_L_01, 05_51_XX_Vessel_R_01, 06_Plaque_XX_YY_08, 05_66_XX_Vessel_L_02'\n",
    "val29 = '05_66_XX_Vessel_L_01, 05_64_XX_Vessel_R_01, 03_17_XX_Plaque_L_01, 05_59_XX_Vessel_R_01, 05_75_XX_Vessel_L_03, 05_06_XX_Vessel_L_01, 03_06_XX_Plaque_L_01, 03_13_XX_Plaque_R_01, 03_28_XX_Plaque_R_01, 07_Plaque_01_YY_01, 05_42_XX_Vessel_L_01, 03_12_XX_Plaque_L_01, 05_66_XX_Vessel_L_02, 05_57_XX_Vessel_R_01, 05_74_XX_Vessel_R_01, 06_Plaque_XX_YY_06, 05_51_XX_Vessel_R_01, 06_Plaque_XX_YY_05, 05_79_XX_Vessel_R_03, 05_48_XX_Vessel_L_01, 03_09_XX_Plaque_L_01, 05_52_XX_Vessel_L_01, 06_Plaque_XX_YY_13L, 05_69_XX_Vessel_R_01'"
   ]
  },
  {
   "cell_type": "code",
   "execution_count": 26,
   "metadata": {},
   "outputs": [],
   "source": [
    "from  tqdm import tqdm\n",
    "def sort_videos(s:str):\n",
    "    if not s:\n",
    "        s='a,b,c'\n",
    "    l = []\n",
    "    ss = s.split(',')\n",
    "    for i in tqdm(ss, \"files....>>\"):\n",
    "        l.append(i.strip())\n",
    "    ls = l.sort()\n",
    "    for il in l:\n",
    "        print(il)\n",
    "    return l"
   ]
  },
  {
   "cell_type": "code",
   "execution_count": 27,
   "metadata": {},
   "outputs": [
    {
     "name": "stdout",
     "output_type": "stream",
     "text": [
      "\\\n"
     ]
    }
   ],
   "source": [
    "import os\n",
    "splimit = os.sep\n",
    "print(splimit)"
   ]
  },
  {
   "cell_type": "code",
   "execution_count": 28,
   "metadata": {},
   "outputs": [
    {
     "name": "stderr",
     "output_type": "stream",
     "text": [
      "files....>>: 100%|█████████████████████████████████████████████████████████████████████████████| 24/24 [00:00<?, ?it/s]\n"
     ]
    },
    {
     "name": "stdout",
     "output_type": "stream",
     "text": [
      "03_06_XX_Plaque_L_01\n",
      "03_09_XX_Plaque_L_01\n",
      "03_12_XX_Plaque_L_01\n",
      "03_13_XX_Plaque_R_01\n",
      "03_17_XX_Plaque_L_01\n",
      "03_28_XX_Plaque_R_01\n",
      "05_06_XX_Vessel_L_01\n",
      "05_42_XX_Vessel_L_01\n",
      "05_48_XX_Vessel_L_01\n",
      "05_51_XX_Vessel_R_01\n",
      "05_52_XX_Vessel_L_01\n",
      "05_57_XX_Vessel_R_01\n",
      "05_59_XX_Vessel_R_01\n",
      "05_64_XX_Vessel_R_01\n",
      "05_66_XX_Vessel_L_01\n",
      "05_66_XX_Vessel_L_02\n",
      "05_69_XX_Vessel_R_01\n",
      "05_74_XX_Vessel_R_01\n",
      "05_75_XX_Vessel_L_03\n",
      "05_79_XX_Vessel_R_03\n",
      "06_Plaque_XX_YY_05\n",
      "06_Plaque_XX_YY_06\n",
      "06_Plaque_XX_YY_13L\n",
      "07_Plaque_01_YY_01\n"
     ]
    }
   ],
   "source": [
    "lval29=sort_videos(val29)"
   ]
  },
  {
   "cell_type": "code",
   "execution_count": 40,
   "metadata": {},
   "outputs": [
    {
     "name": "stdout",
     "output_type": "stream",
     "text": [
      "<mtrand.RandomState object at 0x0000020D1C794120>\n",
      "['03_12_XX_Plaque_L_01' '05_06_XX_Vessel_L_01' '05_64_XX_Vessel_R_01'\n",
      " '05_74_XX_Vessel_R_01' '06_Plaque_XX_YY_13L']\n"
     ]
    },
    {
     "data": {
      "text/plain": [
       "(array(['03_06_XX_Plaque_L_01', '03_09_XX_Plaque_L_01',\n",
       "        '03_13_XX_Plaque_R_01', '03_17_XX_Plaque_L_01',\n",
       "        '03_28_XX_Plaque_R_01', '05_42_XX_Vessel_L_01',\n",
       "        '05_48_XX_Vessel_L_01', '05_51_XX_Vessel_R_01',\n",
       "        '05_52_XX_Vessel_L_01', '05_57_XX_Vessel_R_01',\n",
       "        '05_59_XX_Vessel_R_01', '05_66_XX_Vessel_L_01',\n",
       "        '05_66_XX_Vessel_L_02', '05_69_XX_Vessel_R_01',\n",
       "        '05_75_XX_Vessel_L_03', '05_79_XX_Vessel_R_03',\n",
       "        '06_Plaque_XX_YY_05', '06_Plaque_XX_YY_06', '07_Plaque_01_YY_01'],\n",
       "       dtype='<U20'), array(['03_12_XX_Plaque_L_01', '05_06_XX_Vessel_L_01',\n",
       "        '05_64_XX_Vessel_R_01', '05_74_XX_Vessel_R_01',\n",
       "        '06_Plaque_XX_YY_13L'], dtype='<U20'))"
      ]
     },
     "execution_count": 40,
     "metadata": {},
     "output_type": "execute_result"
    }
   ],
   "source": [
    "import numpy as np\n",
    "seed=114\n",
    "random_state = np.random.RandomState(seed)\n",
    "print(random_state)\n",
    "#dir(random_state)\n",
    "def get_split_ids(ids, test_size=0.2, seed=123):\n",
    "    # set random state\n",
    "    random_state = np.random.RandomState(seed)\n",
    "\n",
    "    # get video ids\n",
    "    #vdict = get_video_dict(ids)\n",
    "\n",
    "    # randomly permuted ids\n",
    "\n",
    "    rids = random_state.permutation(list(ids))\n",
    "\n",
    "    nsplit = int((1 - test_size) * len(rids))\n",
    "\n",
    "    train_ids = rids[:nsplit]\n",
    "    test_ids = rids[nsplit:]\n",
    "    v, t = train_ids.sort(), test_ids.sort()\n",
    "    print(test_ids)\n",
    "    return train_ids, test_ids\n",
    "\n",
    "get_split_ids(ids=lval29)"
   ]
  },
  {
   "cell_type": "code",
   "execution_count": 43,
   "metadata": {},
   "outputs": [
    {
     "name": "stdout",
     "output_type": "stream",
     "text": [
      "['03_12_XX_Plaque_L_01' '05_06_XX_Vessel_L_01' '05_64_XX_Vessel_R_01'\n",
      " '05_74_XX_Vessel_R_01' '06_Plaque_XX_YY_13L']\n"
     ]
    },
    {
     "data": {
      "text/plain": [
       "(array(['03_06_XX_Plaque_L_01', '03_09_XX_Plaque_L_01',\n",
       "        '03_13_XX_Plaque_R_01', '03_17_XX_Plaque_L_01',\n",
       "        '03_28_XX_Plaque_R_01', '05_42_XX_Vessel_L_01',\n",
       "        '05_48_XX_Vessel_L_01', '05_51_XX_Vessel_R_01',\n",
       "        '05_52_XX_Vessel_L_01', '05_57_XX_Vessel_R_01',\n",
       "        '05_59_XX_Vessel_R_01', '05_66_XX_Vessel_L_01',\n",
       "        '05_66_XX_Vessel_L_02', '05_69_XX_Vessel_R_01',\n",
       "        '05_75_XX_Vessel_L_03', '05_79_XX_Vessel_R_03',\n",
       "        '06_Plaque_XX_YY_05', '06_Plaque_XX_YY_06', '07_Plaque_01_YY_01'],\n",
       "       dtype='<U20'), array(['03_12_XX_Plaque_L_01', '05_06_XX_Vessel_L_01',\n",
       "        '05_64_XX_Vessel_R_01', '05_74_XX_Vessel_R_01',\n",
       "        '06_Plaque_XX_YY_13L'], dtype='<U20'))"
      ]
     },
     "execution_count": 43,
     "metadata": {},
     "output_type": "execute_result"
    }
   ],
   "source": [
    "get_split_ids(ids=lval29)"
   ]
  },
  {
   "cell_type": "code",
   "execution_count": 42,
   "metadata": {},
   "outputs": [
    {
     "data": {
      "text/plain": [
       "['__add__',\n",
       " '__class__',\n",
       " '__contains__',\n",
       " '__delattr__',\n",
       " '__delitem__',\n",
       " '__dir__',\n",
       " '__doc__',\n",
       " '__eq__',\n",
       " '__format__',\n",
       " '__ge__',\n",
       " '__getattribute__',\n",
       " '__getitem__',\n",
       " '__gt__',\n",
       " '__hash__',\n",
       " '__iadd__',\n",
       " '__imul__',\n",
       " '__init__',\n",
       " '__init_subclass__',\n",
       " '__iter__',\n",
       " '__le__',\n",
       " '__len__',\n",
       " '__lt__',\n",
       " '__mul__',\n",
       " '__ne__',\n",
       " '__new__',\n",
       " '__reduce__',\n",
       " '__reduce_ex__',\n",
       " '__repr__',\n",
       " '__reversed__',\n",
       " '__rmul__',\n",
       " '__setattr__',\n",
       " '__setitem__',\n",
       " '__sizeof__',\n",
       " '__str__',\n",
       " '__subclasshook__',\n",
       " 'append',\n",
       " 'clear',\n",
       " 'copy',\n",
       " 'count',\n",
       " 'extend',\n",
       " 'index',\n",
       " 'insert',\n",
       " 'pop',\n",
       " 'remove',\n",
       " 'reverse',\n",
       " 'sort']"
      ]
     },
     "execution_count": 42,
     "metadata": {},
     "output_type": "execute_result"
    }
   ],
   "source": [
    "dir(list)"
   ]
  },
  {
   "cell_type": "code",
   "execution_count": 45,
   "metadata": {},
   "outputs": [
    {
     "name": "stderr",
     "output_type": "stream",
     "text": [
      "files....>>: 100%|█████████████████████████████████████████████████████████████████████████████| 24/24 [00:00<?, ?it/s]\n"
     ]
    },
    {
     "name": "stdout",
     "output_type": "stream",
     "text": [
      "03_06_XX_Plaque_L_01\n",
      "03_09_XX_Plaque_L_01\n",
      "03_12_XX_Plaque_L_01\n",
      "03_13_XX_Plaque_R_01\n",
      "03_18_XX_Plaque_L_01\n",
      "05_04_XX_Vessel_L_01\n",
      "05_08_XX_Vessel_R_01\n",
      "05_42_XX_Vessel_R_01\n",
      "05_47_XX_Vessel_R_02\n",
      "05_50_XX_Vessel_R_01\n",
      "05_51_XX_Vessel_R_01\n",
      "05_55_XX_Vessel_R_01\n",
      "05_58_XX_Vessel_L_01\n",
      "05_62_XX_Vessel_L_01\n",
      "05_63_XX_Vessel_R_01\n",
      "05_64_XX_Vessel_R_01\n",
      "05_66_XX_Vessel_L_02\n",
      "05_68_XX_Vessel_R_01\n",
      "05_71_XX_Vessel_L_01\n",
      "05_76_XX_Vessel_L_02\n",
      "05_79_XX_Vessel_R_03\n",
      "06_Plaque_XX_YY_01\n",
      "06_Plaque_XX_YY_08\n",
      "07_Plaque_02_YY_01\n"
     ]
    },
    {
     "data": {
      "text/plain": [
       "['03_06_XX_Plaque_L_01',\n",
       " '03_09_XX_Plaque_L_01',\n",
       " '03_12_XX_Plaque_L_01',\n",
       " '03_13_XX_Plaque_R_01',\n",
       " '03_18_XX_Plaque_L_01',\n",
       " '05_04_XX_Vessel_L_01',\n",
       " '05_08_XX_Vessel_R_01',\n",
       " '05_42_XX_Vessel_R_01',\n",
       " '05_47_XX_Vessel_R_02',\n",
       " '05_50_XX_Vessel_R_01',\n",
       " '05_51_XX_Vessel_R_01',\n",
       " '05_55_XX_Vessel_R_01',\n",
       " '05_58_XX_Vessel_L_01',\n",
       " '05_62_XX_Vessel_L_01',\n",
       " '05_63_XX_Vessel_R_01',\n",
       " '05_64_XX_Vessel_R_01',\n",
       " '05_66_XX_Vessel_L_02',\n",
       " '05_68_XX_Vessel_R_01',\n",
       " '05_71_XX_Vessel_L_01',\n",
       " '05_76_XX_Vessel_L_02',\n",
       " '05_79_XX_Vessel_R_03',\n",
       " '06_Plaque_XX_YY_01',\n",
       " '06_Plaque_XX_YY_08',\n",
       " '07_Plaque_02_YY_01']"
      ]
     },
     "execution_count": 45,
     "metadata": {},
     "output_type": "execute_result"
    }
   ],
   "source": [
    "sort_videos(val26)"
   ]
  },
  {
   "cell_type": "code",
   "execution_count": 46,
   "metadata": {},
   "outputs": [
    {
     "name": "stderr",
     "output_type": "stream",
     "text": [
      "files....>>: 100%|█████████████████████████████████████████████████████████████████████████████| 54/54 [00:00<?, ?it/s]\n"
     ]
    },
    {
     "name": "stdout",
     "output_type": "stream",
     "text": [
      "03_01_XX_Plaque_R_01\n",
      "03_02_XX_Plaque_R_01\n",
      "03_06_XX_Plaque_L_01\n",
      "03_10_XX_Plaque_L_01\n",
      "03_11_XX_Plaque_L_01\n",
      "03_12_XX_Plaque_R_01\n",
      "03_12_XX_Plaque_R_02\n",
      "03_13_XX_Plaque_L_01\n",
      "03_13_XX_Plaque_R_01\n",
      "03_16_XX_Plaque_L_01\n",
      "03_17_XX_Plaque_L_01\n",
      "03_17_XX_Plaque_R_01\n",
      "03_18_XX_Plaque_L_01\n",
      "05_04_XX_Vessel_L_01\n",
      "05_06_XX_Vessel_L_01\n",
      "05_15_XX_Vessel_R_01\n",
      "05_42_XX_Vessel_L_01\n",
      "05_42_XX_Vessel_R_01\n",
      "05_43_XX_Vessel_R_01\n",
      "05_45_XX_Vessel_R_01\n",
      "05_46_XX_Vessel_R_01\n",
      "05_47_XX_Vessel_L_01\n",
      "05_48_XX_Vessel_L_01\n",
      "05_49_XX_Vessel_R_01\n",
      "05_50_XX_Vessel_R_01\n",
      "05_51_XX_Vessel_R_01\n",
      "05_52_XX_Vessel_L_01\n",
      "05_52_XX_Vessel_R_01\n",
      "05_53_XX_Vessel_L_01\n",
      "05_53_XX_Vessel_R_02\n",
      "05_57_XX_Vessel_R_01\n",
      "05_58_XX_Vessel_L_01\n",
      "05_58_XX_Vessel_R_01\n",
      "05_59_XX_Vessel_R_01\n",
      "05_62_XX_Vessel_L_01\n",
      "05_62_XX_Vessel_R_01\n",
      "05_64_XX_Vessel_R_01\n",
      "05_65_XX_Vessel_R_01\n",
      "05_66_XX_Vessel_L_01\n",
      "05_68_XX_Vessel_L_01\n",
      "05_68_XX_Vessel_R_01\n",
      "05_69_XX_Vessel_L_01\n",
      "05_69_XX_Vessel_R_01\n",
      "05_71_XX_Vessel_L_01\n",
      "05_75_XX_Vessel_L_01\n",
      "05_75_XX_Vessel_L_02\n",
      "05_75_XX_Vessel_L_03\n",
      "05_78_XX_Vessel_L_01\n",
      "05_79_XX_Vessel_L_01\n",
      "05_79_XX_Vessel_L_02\n",
      "05_79_XX_Vessel_R_01\n",
      "05_79_XX_Vessel_R_03\n",
      "06_Plaque_XX_YY_03\n",
      "06_Plaque_XX_YY_04\n"
     ]
    },
    {
     "data": {
      "text/plain": [
       "['03_01_XX_Plaque_R_01',\n",
       " '03_02_XX_Plaque_R_01',\n",
       " '03_06_XX_Plaque_L_01',\n",
       " '03_10_XX_Plaque_L_01',\n",
       " '03_11_XX_Plaque_L_01',\n",
       " '03_12_XX_Plaque_R_01',\n",
       " '03_12_XX_Plaque_R_02',\n",
       " '03_13_XX_Plaque_L_01',\n",
       " '03_13_XX_Plaque_R_01',\n",
       " '03_16_XX_Plaque_L_01',\n",
       " '03_17_XX_Plaque_L_01',\n",
       " '03_17_XX_Plaque_R_01',\n",
       " '03_18_XX_Plaque_L_01',\n",
       " '05_04_XX_Vessel_L_01',\n",
       " '05_06_XX_Vessel_L_01',\n",
       " '05_15_XX_Vessel_R_01',\n",
       " '05_42_XX_Vessel_L_01',\n",
       " '05_42_XX_Vessel_R_01',\n",
       " '05_43_XX_Vessel_R_01',\n",
       " '05_45_XX_Vessel_R_01',\n",
       " '05_46_XX_Vessel_R_01',\n",
       " '05_47_XX_Vessel_L_01',\n",
       " '05_48_XX_Vessel_L_01',\n",
       " '05_49_XX_Vessel_R_01',\n",
       " '05_50_XX_Vessel_R_01',\n",
       " '05_51_XX_Vessel_R_01',\n",
       " '05_52_XX_Vessel_L_01',\n",
       " '05_52_XX_Vessel_R_01',\n",
       " '05_53_XX_Vessel_L_01',\n",
       " '05_53_XX_Vessel_R_02',\n",
       " '05_57_XX_Vessel_R_01',\n",
       " '05_58_XX_Vessel_L_01',\n",
       " '05_58_XX_Vessel_R_01',\n",
       " '05_59_XX_Vessel_R_01',\n",
       " '05_62_XX_Vessel_L_01',\n",
       " '05_62_XX_Vessel_R_01',\n",
       " '05_64_XX_Vessel_R_01',\n",
       " '05_65_XX_Vessel_R_01',\n",
       " '05_66_XX_Vessel_L_01',\n",
       " '05_68_XX_Vessel_L_01',\n",
       " '05_68_XX_Vessel_R_01',\n",
       " '05_69_XX_Vessel_L_01',\n",
       " '05_69_XX_Vessel_R_01',\n",
       " '05_71_XX_Vessel_L_01',\n",
       " '05_75_XX_Vessel_L_01',\n",
       " '05_75_XX_Vessel_L_02',\n",
       " '05_75_XX_Vessel_L_03',\n",
       " '05_78_XX_Vessel_L_01',\n",
       " '05_79_XX_Vessel_L_01',\n",
       " '05_79_XX_Vessel_L_02',\n",
       " '05_79_XX_Vessel_R_01',\n",
       " '05_79_XX_Vessel_R_03',\n",
       " '06_Plaque_XX_YY_03',\n",
       " '06_Plaque_XX_YY_04']"
      ]
     },
     "execution_count": 46,
     "metadata": {},
     "output_type": "execute_result"
    }
   ],
   "source": [
    "v5='05_66_XX_Vessel_L_01, 05_62_XX_Vessel_R_01, 03_13_XX_Plaque_L_01, 05_64_XX_Vessel_R_01, 05_75_XX_Vessel_L_01, 05_42_XX_Vessel_R_01, 05_46_XX_Vessel_R_01, 03_12_XX_Plaque_R_01, 03_12_XX_Plaque_R_02, 03_10_XX_Plaque_L_01, 05_68_XX_Vessel_R_01, 05_15_XX_Vessel_R_01, 05_47_XX_Vessel_L_01, 05_06_XX_Vessel_L_01, 05_04_XX_Vessel_L_01, 05_58_XX_Vessel_L_01, 05_53_XX_Vessel_L_01, 03_18_XX_Plaque_L_01, 05_71_XX_Vessel_L_01, 03_16_XX_Plaque_L_01, 06_Plaque_XX_YY_03, 05_48_XX_Vessel_L_01, 03_17_XX_Plaque_R_01, 03_02_XX_Plaque_R_01, 05_43_XX_Vessel_R_01, 05_45_XX_Vessel_R_01, 05_75_XX_Vessel_L_03, 03_01_XX_Plaque_R_01, 03_06_XX_Plaque_L_01, 05_59_XX_Vessel_R_01, 05_79_XX_Vessel_L_01, 06_Plaque_XX_YY_04, 05_65_XX_Vessel_R_01, 05_79_XX_Vessel_R_03, 05_50_XX_Vessel_R_01, 05_78_XX_Vessel_L_01, 03_13_XX_Plaque_R_01, 05_58_XX_Vessel_R_01, 05_69_XX_Vessel_R_01, 05_51_XX_Vessel_R_01, 05_57_XX_Vessel_R_01, 05_62_XX_Vessel_L_01, 05_68_XX_Vessel_L_01, 05_52_XX_Vessel_R_01, 03_17_XX_Plaque_L_01, 05_75_XX_Vessel_L_02, 05_42_XX_Vessel_L_01, 03_11_XX_Plaque_L_01, 05_53_XX_Vessel_R_02, 05_69_XX_Vessel_L_01, 05_79_XX_Vessel_R_01, 05_79_XX_Vessel_L_02, 05_49_XX_Vessel_R_01, 05_52_XX_Vessel_L_01'\n",
    "sort_videos(v5)"
   ]
  },
  {
   "cell_type": "code",
   "execution_count": 86,
   "metadata": {},
   "outputs": [],
   "source": [
    "class TemplateMessageDataBase(object):\n",
    "    k_value = \"value\"\n",
    "    k_color = \"color\"\n",
    "    k_first = \"first\"\n",
    "    k_remark = \"remark\"\n",
    "    k_keyword = \"keyword\"\n",
    "    v_color = \"#173177\"\n",
    "\n",
    "    def get_item(self, key=None, value=None, color=None):\n",
    "        if not key:\n",
    "            key = self.k_keyword + '1'\n",
    "        item = {key: {self.k_value: value, self.k_color: color if color else self.v_color}}\n",
    "        return item\n",
    "\n",
    "    def get_instance(self):\n",
    "        inst = {}\n",
    "        for i in range(1, 4, 1):\n",
    "            key = self.k_keyword+str(i)\n",
    "            item_keyword = self.get_item(key, '{}')\n",
    "            inst[key] = item_keyword.get(key)\n",
    "        inst[self.k_first] = self.get_item(self.k_first, 'first')\n",
    "        inst[self.k_remark] = self.get_item(self.k_remark, 'remark')\n",
    "        return inst"
   ]
  },
  {
   "cell_type": "code",
   "execution_count": 87,
   "metadata": {},
   "outputs": [
    {
     "name": "stdout",
     "output_type": "stream",
     "text": [
      "{'keyword1': {'value': '{}', 'color': '#173177'}, 'keyword2': {'value': '{}', 'color': '#173177'}, 'keyword3': {'value': '{}', 'color': '#173177'}, 'first': {'first': {'value': 'first', 'color': '#173177'}}, 'remark': {'remark': {'value': 'remark', 'color': '#173177'}}}\n"
     ]
    }
   ],
   "source": [
    "tmd = TemplateMessageDataBase()\n",
    "item = tmd.get_item()\n",
    "inst = tmd.get_instance()\n",
    "print(inst)"
   ]
  },
  {
   "cell_type": "code",
   "execution_count": 90,
   "metadata": {},
   "outputs": [],
   "source": [
    "    def set_values(data, values):\n",
    "        \"\"\"\n",
    "            values is list type like:data_register_success\n",
    "            Example:    \n",
    "                \"first\": {\n",
    "                    \"value\":\"恭喜你购买成功！\",\n",
    "                    \"color\":\"#173177\"\n",
    "                },\n",
    "                \"keyword1\":{\n",
    "                    \"value\":\"巧克力\",\n",
    "                    \"color\":\"#173177\"\n",
    "                },\n",
    "                \"keyword2\": {\n",
    "                    \"value\":\"39.8元\",\n",
    "                    \"color\":\"#173177\"\n",
    "                },\n",
    "                \"keyword3\": {\n",
    "                    \"value\":\"2014年9月22日\",\n",
    "                    \"color\":\"#173177\"\n",
    "                },\n",
    "                \"remark\":{\n",
    "                    \"value\":\"欢迎再次购买！\",\n",
    "                    \"color\":\"#173177\"\n",
    "                }\n",
    "        \"\"\"\n",
    "        j = 0\n",
    "        for i in data:\n",
    "            d = data[i]\n",
    "            for ii in d:\n",
    "                if 'value' == ii and '{}' == d[ii]:\n",
    "                    d[ii] = values[j]\n",
    "                    j += 1\n",
    "        return data"
   ]
  },
  {
   "cell_type": "code",
   "execution_count": 91,
   "metadata": {},
   "outputs": [
    {
     "name": "stdout",
     "output_type": "stream",
     "text": [
      "{'keyword1': {'value': 'hhhhhh', 'color': '#173177'}, 'keyword2': {'value': 'oooooooooo', 'color': '#173177'}, 'keyword3': {'value': 'pppppppppppp', 'color': '#173177'}, 'first': {'first': {'value': 'first', 'color': '#173177'}}, 'remark': {'remark': {'value': 'remark', 'color': '#173177'}}}\n"
     ]
    }
   ],
   "source": [
    "valuess2=[\"hhhhhh\", \"oooooooooo\", 'pppppppppppp']\n",
    "newv2 = set_values(inst, valuess2) \n",
    "\n",
    "print(newv2)"
   ]
  },
  {
   "cell_type": "code",
   "execution_count": null,
   "metadata": {},
   "outputs": [],
   "source": []
  }
 ],
 "metadata": {
  "kernelspec": {
   "display_name": "Python 3",
   "language": "python",
   "name": "python3"
  },
  "language_info": {
   "codemirror_mode": {
    "name": "ipython",
    "version": 3
   },
   "file_extension": ".py",
   "mimetype": "text/x-python",
   "name": "python",
   "nbconvert_exporter": "python",
   "pygments_lexer": "ipython3",
   "version": "3.6.8"
  }
 },
 "nbformat": 4,
 "nbformat_minor": 2
}
